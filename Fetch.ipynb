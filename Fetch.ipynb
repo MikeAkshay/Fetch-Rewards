{
 "cells": [
  {
   "cell_type": "markdown",
   "id": "03067e1f",
   "metadata": {},
   "source": [
    "# Transforming unstructured data (JSON) to structured data (CSV)"
   ]
  },
  {
   "cell_type": "markdown",
   "id": "57e9420b",
   "metadata": {},
   "source": [
    "Loading the Users, Brands and Receipts data into pandas dataframe and converting them to CSV format"
   ]
  },
  {
   "cell_type": "code",
   "execution_count": 1,
   "id": "4368e9e5",
   "metadata": {},
   "outputs": [],
   "source": [
    "import pandas as pd\n",
    "#Loading the Users data into pandas dataframe\n",
    "users_df = pd.read_json(\"/Users/mikeakshaydominique/Desktop/users.json\", lines = True)"
   ]
  },
  {
   "cell_type": "code",
   "execution_count": 2,
   "id": "9f8de273",
   "metadata": {},
   "outputs": [],
   "source": [
    "#Converting to CSV\n",
    "users_df.to_csv(\"users.csv\", index=False)"
   ]
  },
  {
   "cell_type": "code",
   "execution_count": 3,
   "id": "e5c42b8c",
   "metadata": {},
   "outputs": [
    {
     "name": "stdout",
     "output_type": "stream",
     "text": [
      "                                      _id  active               createdDate  \\\n",
      "0    {'$oid': '5ff1e194b6a9d73a3a9f1052'}    True  {'$date': 1609687444800}   \n",
      "1    {'$oid': '5ff1e194b6a9d73a3a9f1052'}    True  {'$date': 1609687444800}   \n",
      "2    {'$oid': '5ff1e194b6a9d73a3a9f1052'}    True  {'$date': 1609687444800}   \n",
      "3    {'$oid': '5ff1e1eacfcf6c399c274ae6'}    True  {'$date': 1609687530554}   \n",
      "4    {'$oid': '5ff1e194b6a9d73a3a9f1052'}    True  {'$date': 1609687444800}   \n",
      "..                                    ...     ...                       ...   \n",
      "490  {'$oid': '54943462e4b07e684157a532'}    True  {'$date': 1418998882381}   \n",
      "491  {'$oid': '54943462e4b07e684157a532'}    True  {'$date': 1418998882381}   \n",
      "492  {'$oid': '54943462e4b07e684157a532'}    True  {'$date': 1418998882381}   \n",
      "493  {'$oid': '54943462e4b07e684157a532'}    True  {'$date': 1418998882381}   \n",
      "494  {'$oid': '54943462e4b07e684157a532'}    True  {'$date': 1418998882381}   \n",
      "\n",
      "                    lastLogin         role signUpSource state  \n",
      "0    {'$date': 1609687537858}     consumer        Email    WI  \n",
      "1    {'$date': 1609687537858}     consumer        Email    WI  \n",
      "2    {'$date': 1609687537858}     consumer        Email    WI  \n",
      "3    {'$date': 1609687530597}     consumer        Email    WI  \n",
      "4    {'$date': 1609687537858}     consumer        Email    WI  \n",
      "..                        ...          ...          ...   ...  \n",
      "490  {'$date': 1614963143204}  fetch-staff          NaN   NaN  \n",
      "491  {'$date': 1614963143204}  fetch-staff          NaN   NaN  \n",
      "492  {'$date': 1614963143204}  fetch-staff          NaN   NaN  \n",
      "493  {'$date': 1614963143204}  fetch-staff          NaN   NaN  \n",
      "494  {'$date': 1614963143204}  fetch-staff          NaN   NaN  \n",
      "\n",
      "[495 rows x 7 columns]\n"
     ]
    }
   ],
   "source": [
    "print(users_df)"
   ]
  },
  {
   "cell_type": "code",
   "execution_count": 4,
   "id": "5b48f8d3",
   "metadata": {},
   "outputs": [],
   "source": [
    "#Loading the Brands data into pandas dataframe\n",
    "brands_df = pd.read_json(\"/Users/mikeakshaydominique/Desktop/brands.json\", lines = True)"
   ]
  },
  {
   "cell_type": "code",
   "execution_count": 5,
   "id": "7d7d4423",
   "metadata": {},
   "outputs": [],
   "source": [
    "#Converting to CSV\n",
    "brands_df.to_csv(\"brands.csv\", index=False)"
   ]
  },
  {
   "cell_type": "code",
   "execution_count": 6,
   "id": "bf3ac6d4",
   "metadata": {},
   "outputs": [
    {
     "name": "stdout",
     "output_type": "stream",
     "text": [
      "                                       _id       barcode            category  \\\n",
      "0     {'$oid': '601ac115be37ce2ead437551'}  511111019862              Baking   \n",
      "1     {'$oid': '601c5460be37ce2ead43755f'}  511111519928           Beverages   \n",
      "2     {'$oid': '601ac142be37ce2ead43755d'}  511111819905              Baking   \n",
      "3     {'$oid': '601ac142be37ce2ead43755a'}  511111519874              Baking   \n",
      "4     {'$oid': '601ac142be37ce2ead43755e'}  511111319917      Candy & Sweets   \n",
      "...                                    ...           ...                 ...   \n",
      "1162  {'$oid': '5f77274dbe37ce6b592e90c0'}  511111116752              Baking   \n",
      "1163  {'$oid': '5dc1fca91dda2c0ad7da64ae'}  511111706328  Breakfast & Cereal   \n",
      "1164  {'$oid': '5f494c6e04db711dd8fe87e7'}  511111416173      Candy & Sweets   \n",
      "1165  {'$oid': '5a021611e4b00efe02b02a57'}  511111400608             Grocery   \n",
      "1166  {'$oid': '6026d757be37ce6369301468'}  511111019930              Baking   \n",
      "\n",
      "          categoryCode                                                cpg  \\\n",
      "0               BAKING  {'$id': {'$oid': '601ac114be37ce2ead437550'}, ...   \n",
      "1            BEVERAGES  {'$id': {'$oid': '5332f5fbe4b03c9a25efd0ba'}, ...   \n",
      "2               BAKING  {'$id': {'$oid': '601ac142be37ce2ead437559'}, ...   \n",
      "3               BAKING  {'$id': {'$oid': '601ac142be37ce2ead437559'}, ...   \n",
      "4     CANDY_AND_SWEETS  {'$id': {'$oid': '5332fa12e4b03c9a25efd1e7'}, ...   \n",
      "...                ...                                                ...   \n",
      "1162            BAKING  {'$ref': 'Cogs', '$id': {'$oid': '5f77274dbe37...   \n",
      "1163               NaN  {'$ref': 'Cogs', '$id': {'$oid': '53e10d6368ab...   \n",
      "1164  CANDY_AND_SWEETS  {'$ref': 'Cogs', '$id': {'$oid': '5332fa12e4b0...   \n",
      "1165               NaN  {'$ref': 'Cogs', '$id': {'$oid': '5332f5f6e4b0...   \n",
      "1166            BAKING  {'$id': {'$oid': '6026d757be37ce6369301467'}, ...   \n",
      "\n",
      "                           name  topBrand                      brandCode  \n",
      "0     test brand @1612366101024       0.0                            NaN  \n",
      "1                     Starbucks       0.0                      STARBUCKS  \n",
      "2     test brand @1612366146176       0.0  TEST BRANDCODE @1612366146176  \n",
      "3     test brand @1612366146051       0.0  TEST BRANDCODE @1612366146051  \n",
      "4     test brand @1612366146827       0.0  TEST BRANDCODE @1612366146827  \n",
      "...                         ...       ...                            ...  \n",
      "1162  test brand @1601644365844       NaN                            NaN  \n",
      "1163        Dippin Dots® Cereal       NaN             DIPPIN DOTS CEREAL  \n",
      "1164  test brand @1598639215217       NaN  TEST BRANDCODE @1598639215217  \n",
      "1165          LIPTON TEA Leaves       0.0              LIPTON TEA Leaves  \n",
      "1166  test brand @1613158231643       0.0  TEST BRANDCODE @1613158231644  \n",
      "\n",
      "[1167 rows x 8 columns]\n"
     ]
    }
   ],
   "source": [
    "print(brands_df)"
   ]
  },
  {
   "cell_type": "code",
   "execution_count": 7,
   "id": "63989711",
   "metadata": {},
   "outputs": [],
   "source": [
    "#Loading the Receipts data into pandas dataframe\n",
    "receipts_df = pd.read_json(\"/Users/mikeakshaydominique/Desktop/receipts.json\", lines = True)"
   ]
  },
  {
   "cell_type": "code",
   "execution_count": 8,
   "id": "9a854373",
   "metadata": {},
   "outputs": [],
   "source": [
    "#Converting to CSV\n",
    "receipts_df.to_csv(\"receipts.csv\", index=False)"
   ]
  },
  {
   "cell_type": "code",
   "execution_count": 9,
   "id": "7acec911",
   "metadata": {},
   "outputs": [
    {
     "name": "stdout",
     "output_type": "stream",
     "text": [
      "                                       _id  bonusPointsEarned  \\\n",
      "0     {'$oid': '5ff1e1eb0a720f0523000575'}              500.0   \n",
      "1     {'$oid': '5ff1e1bb0a720f052300056b'}              150.0   \n",
      "2     {'$oid': '5ff1e1f10a720f052300057a'}                5.0   \n",
      "3     {'$oid': '5ff1e1ee0a7214ada100056f'}                5.0   \n",
      "4     {'$oid': '5ff1e1d20a7214ada1000561'}                5.0   \n",
      "...                                    ...                ...   \n",
      "1114  {'$oid': '603cc0630a720fde100003e6'}               25.0   \n",
      "1115  {'$oid': '603d0b710a720fde1000042a'}                NaN   \n",
      "1116  {'$oid': '603cf5290a720fde10000413'}                NaN   \n",
      "1117  {'$oid': '603ce7100a7217c72c000405'}               25.0   \n",
      "1118  {'$oid': '603c4fea0a7217c72c000389'}                NaN   \n",
      "\n",
      "                                bonusPointsEarnedReason  \\\n",
      "0     Receipt number 2 completed, bonus point schedu...   \n",
      "1     Receipt number 5 completed, bonus point schedu...   \n",
      "2                            All-receipts receipt bonus   \n",
      "3                            All-receipts receipt bonus   \n",
      "4                            All-receipts receipt bonus   \n",
      "...                                                 ...   \n",
      "1114                        COMPLETE_NONPARTNER_RECEIPT   \n",
      "1115                                                NaN   \n",
      "1116                                                NaN   \n",
      "1117                        COMPLETE_NONPARTNER_RECEIPT   \n",
      "1118                                                NaN   \n",
      "\n",
      "                    createDate               dateScanned  \\\n",
      "0     {'$date': 1609687531000}  {'$date': 1609687531000}   \n",
      "1     {'$date': 1609687483000}  {'$date': 1609687483000}   \n",
      "2     {'$date': 1609687537000}  {'$date': 1609687537000}   \n",
      "3     {'$date': 1609687534000}  {'$date': 1609687534000}   \n",
      "4     {'$date': 1609687506000}  {'$date': 1609687506000}   \n",
      "...                        ...                       ...   \n",
      "1114  {'$date': 1614594147000}  {'$date': 1614594147000}   \n",
      "1115  {'$date': 1614613361873}  {'$date': 1614613361873}   \n",
      "1116  {'$date': 1614607657664}  {'$date': 1614607657664}   \n",
      "1117  {'$date': 1614604048000}  {'$date': 1614604048000}   \n",
      "1118  {'$date': 1614565354962}  {'$date': 1614565354962}   \n",
      "\n",
      "                  finishedDate                modifyDate  \\\n",
      "0     {'$date': 1609687531000}  {'$date': 1609687536000}   \n",
      "1     {'$date': 1609687483000}  {'$date': 1609687488000}   \n",
      "2                          NaN  {'$date': 1609687542000}   \n",
      "3     {'$date': 1609687534000}  {'$date': 1609687539000}   \n",
      "4     {'$date': 1609687511000}  {'$date': 1609687511000}   \n",
      "...                        ...                       ...   \n",
      "1114                       NaN  {'$date': 1614594148000}   \n",
      "1115                       NaN  {'$date': 1614613361873}   \n",
      "1116                       NaN  {'$date': 1614607657664}   \n",
      "1117                       NaN  {'$date': 1614604049000}   \n",
      "1118                       NaN  {'$date': 1614565354962}   \n",
      "\n",
      "             pointsAwardedDate  pointsEarned              purchaseDate  \\\n",
      "0     {'$date': 1609687531000}         500.0  {'$date': 1609632000000}   \n",
      "1     {'$date': 1609687483000}         150.0  {'$date': 1609601083000}   \n",
      "2                          NaN           5.0  {'$date': 1609632000000}   \n",
      "3     {'$date': 1609687534000}           5.0  {'$date': 1609632000000}   \n",
      "4     {'$date': 1609687506000}           5.0  {'$date': 1609601106000}   \n",
      "...                        ...           ...                       ...   \n",
      "1114                       NaN          25.0  {'$date': 1597622400000}   \n",
      "1115                       NaN           NaN                       NaN   \n",
      "1116                       NaN           NaN                       NaN   \n",
      "1117                       NaN          25.0  {'$date': 1597622400000}   \n",
      "1118                       NaN           NaN                       NaN   \n",
      "\n",
      "      purchasedItemCount                             rewardsReceiptItemList  \\\n",
      "0                    5.0  [{'barcode': '4011', 'description': 'ITEM NOT ...   \n",
      "1                    2.0  [{'barcode': '4011', 'description': 'ITEM NOT ...   \n",
      "2                    1.0  [{'needsFetchReview': False, 'partnerItemId': ...   \n",
      "3                    4.0  [{'barcode': '4011', 'description': 'ITEM NOT ...   \n",
      "4                    2.0  [{'barcode': '4011', 'description': 'ITEM NOT ...   \n",
      "...                  ...                                                ...   \n",
      "1114                 2.0  [{'barcode': 'B076FJ92M4', 'description': 'mue...   \n",
      "1115                 NaN                                                NaN   \n",
      "1116                 NaN                                                NaN   \n",
      "1117                 2.0  [{'barcode': 'B076FJ92M4', 'description': 'mue...   \n",
      "1118                 NaN                                                NaN   \n",
      "\n",
      "     rewardsReceiptStatus  totalSpent                    userId  \n",
      "0                FINISHED       26.00  5ff1e1eacfcf6c399c274ae6  \n",
      "1                FINISHED       11.00  5ff1e194b6a9d73a3a9f1052  \n",
      "2                REJECTED       10.00  5ff1e1f1cfcf6c399c274b0b  \n",
      "3                FINISHED       28.00  5ff1e1eacfcf6c399c274ae6  \n",
      "4                FINISHED        1.00  5ff1e194b6a9d73a3a9f1052  \n",
      "...                   ...         ...                       ...  \n",
      "1114             REJECTED       34.96  5fc961c3b8cfca11a077dd33  \n",
      "1115            SUBMITTED         NaN  5fc961c3b8cfca11a077dd33  \n",
      "1116            SUBMITTED         NaN  5fc961c3b8cfca11a077dd33  \n",
      "1117             REJECTED       34.96  5fc961c3b8cfca11a077dd33  \n",
      "1118            SUBMITTED         NaN  5fc961c3b8cfca11a077dd33  \n",
      "\n",
      "[1119 rows x 15 columns]\n"
     ]
    }
   ],
   "source": [
    "print(receipts_df)"
   ]
  },
  {
   "cell_type": "markdown",
   "id": "d16437f1",
   "metadata": {},
   "source": [
    "# Data Cleaning (Users data)"
   ]
  },
  {
   "cell_type": "markdown",
   "id": "54b26758",
   "metadata": {},
   "source": [
    "Checking if there are any missing values in the 'Users' data"
   ]
  },
  {
   "cell_type": "code",
   "execution_count": 10,
   "id": "079985f9",
   "metadata": {},
   "outputs": [
    {
     "name": "stdout",
     "output_type": "stream",
     "text": [
      "There are missing values in the Users DataFrame.\n"
     ]
    }
   ],
   "source": [
    "if users_df.isnull().any().any():\n",
    "    print(\"There are missing values in the Users DataFrame.\")\n",
    "else:\n",
    "    print(\"There are no missing values in the Users DataFrame.\")"
   ]
  },
  {
   "cell_type": "code",
   "execution_count": 11,
   "id": "483db300",
   "metadata": {},
   "outputs": [],
   "source": [
    "#Creating a boolean mask to identify missing values\n",
    "missing_mask = users_df.isnull()"
   ]
  },
  {
   "cell_type": "code",
   "execution_count": 12,
   "id": "cf07bf7d",
   "metadata": {},
   "outputs": [
    {
     "name": "stdout",
     "output_type": "stream",
     "text": [
      "Total missing values in the DataFrame: 166\n"
     ]
    }
   ],
   "source": [
    "# Total number of missing values in the entire DataFrame\n",
    "total_missing = missing_mask.sum().sum()\n",
    "print(\"Total missing values in the DataFrame:\", total_missing)"
   ]
  },
  {
   "cell_type": "code",
   "execution_count": 15,
   "id": "d2514d31",
   "metadata": {},
   "outputs": [
    {
     "name": "stdout",
     "output_type": "stream",
     "text": [
      "_id              0\n",
      "active           0\n",
      "createdDate      0\n",
      "lastLogin       62\n",
      "role             0\n",
      "signUpSource    48\n",
      "state           56\n",
      "dtype: int64\n",
      "0      0\n",
      "1      0\n",
      "2      0\n",
      "3      0\n",
      "4      0\n",
      "      ..\n",
      "490    2\n",
      "491    2\n",
      "492    2\n",
      "493    2\n",
      "494    2\n",
      "Length: 495, dtype: int64\n"
     ]
    }
   ],
   "source": [
    "# Counting the number of missing values in each column\n",
    "missing_values_in_columns = users_df.isnull().sum()\n",
    "print(missing_values_in_columns )\n",
    "\n",
    "# Counting the number of missing values in each row\n",
    "missing_values_in_rows = users_df.isnull().sum(axis=1)\n",
    "print(missing_values_in_rows)"
   ]
  },
  {
   "cell_type": "markdown",
   "id": "8d684053",
   "metadata": {},
   "source": [
    "Handling the 48 missing values found in the 'signUpSource' column"
   ]
  },
  {
   "cell_type": "code",
   "execution_count": 17,
   "id": "af5cbd87",
   "metadata": {},
   "outputs": [],
   "source": [
    "# Filling missing values in the 'signUpSource' column with 'Unknown'\n",
    "users_df['signUpSource'].fillna('Unknown', inplace=True)"
   ]
  },
  {
   "cell_type": "code",
   "execution_count": 43,
   "id": "b1cfd5ea",
   "metadata": {},
   "outputs": [
    {
     "name": "stdout",
     "output_type": "stream",
     "text": [
      "0        Email\n",
      "1        Email\n",
      "2        Email\n",
      "3        Email\n",
      "4        Email\n",
      "        ...   \n",
      "490    Unknown\n",
      "491    Unknown\n",
      "492    Unknown\n",
      "493    Unknown\n",
      "494    Unknown\n",
      "Name: signUpSource, Length: 495, dtype: object\n"
     ]
    }
   ],
   "source": [
    "print(users_df['signUpSource'])"
   ]
  },
  {
   "cell_type": "code",
   "execution_count": 19,
   "id": "b09ff9a8",
   "metadata": {},
   "outputs": [
    {
     "name": "stdout",
     "output_type": "stream",
     "text": [
      "Number of missing values in 'signUpSource': 0\n"
     ]
    }
   ],
   "source": [
    "#Cross-verifying the number of missing values in the column to ensure the missing values are handled successfully \n",
    "missing_values_count = users_df['signUpSource'].isnull().sum()\n",
    "print(\"Number of missing values in 'signUpSource':\", missing_values_count)"
   ]
  },
  {
   "cell_type": "markdown",
   "id": "13b6ab65",
   "metadata": {},
   "source": [
    "Likewise, the 56 missing values values in the 'state' column are also handled."
   ]
  },
  {
   "cell_type": "code",
   "execution_count": 20,
   "id": "451483c3",
   "metadata": {},
   "outputs": [],
   "source": [
    "# Filling missing values in the 'state' column with 'Unknown'\n",
    "users_df['state'].fillna('Unknown', inplace=True)"
   ]
  },
  {
   "cell_type": "code",
   "execution_count": 41,
   "id": "1048ff7c",
   "metadata": {},
   "outputs": [
    {
     "name": "stdout",
     "output_type": "stream",
     "text": [
      "0           WI\n",
      "1           WI\n",
      "2           WI\n",
      "3           WI\n",
      "4           WI\n",
      "        ...   \n",
      "490    Unknown\n",
      "491    Unknown\n",
      "492    Unknown\n",
      "493    Unknown\n",
      "494    Unknown\n",
      "Name: state, Length: 495, dtype: object\n"
     ]
    }
   ],
   "source": [
    "print(users_df['state'])"
   ]
  },
  {
   "cell_type": "code",
   "execution_count": 22,
   "id": "849c5004",
   "metadata": {},
   "outputs": [
    {
     "name": "stdout",
     "output_type": "stream",
     "text": [
      "Number of missing values in 'state': 0\n"
     ]
    }
   ],
   "source": [
    "#Cross-verifying the number of missing values in the column to ensure the missing values are handled successfully \n",
    "missing_values_count = users_df['state'].isnull().sum()\n",
    "print(\"Number of missing values in 'state':\", missing_values_count)"
   ]
  },
  {
   "cell_type": "markdown",
   "id": "1fa35019",
   "metadata": {},
   "source": [
    "Converting the values in the columns 'lastLogin' and 'createdDate' from the given format to a usable datetime format."
   ]
  },
  {
   "cell_type": "code",
   "execution_count": 23,
   "id": "602b4f70",
   "metadata": {},
   "outputs": [],
   "source": [
    "# Defining a custom function to extract the timestamp from the nested dictionary\n",
    "def extract_timestamp(val):\n",
    "    if pd.notna(val):\n",
    "        return val['$date']\n",
    "    else:\n",
    "        return val\n",
    "\n",
    "# Converting the values in 'lastLogin' to a datetime format using the custom function\n",
    "users_df['lastLogin'] = users_df['lastLogin'].apply(extract_timestamp)\n",
    "users_df['lastLogin'] = pd.to_datetime(users_df['lastLogin'], unit='ms')\n",
    "\n",
    "# Converting the values in 'createdDate' to a datetime format using the custom function\n",
    "users_df['createdDate'] = users_df['createdDate'].apply(extract_timestamp)\n",
    "users_df['createdDate'] = pd.to_datetime(users_df['createdDate'], unit='ms')"
   ]
  },
  {
   "cell_type": "code",
   "execution_count": 202,
   "id": "b85249f1",
   "metadata": {},
   "outputs": [
    {
     "name": "stdout",
     "output_type": "stream",
     "text": [
      "0     2021-01-03 15:25:37.857999872\n",
      "1     2021-01-03 15:25:37.857999872\n",
      "2     2021-01-03 15:25:37.857999872\n",
      "3     2021-01-03 15:25:30.596999936\n",
      "4     2021-01-03 15:25:37.857999872\n",
      "                   ...             \n",
      "490   2021-03-05 16:52:23.204000000\n",
      "491   2021-03-05 16:52:23.204000000\n",
      "492   2021-03-05 16:52:23.204000000\n",
      "493   2021-03-05 16:52:23.204000000\n",
      "494   2021-03-05 16:52:23.204000000\n",
      "Name: lastLogin, Length: 495, dtype: datetime64[ns] 0     2021-01-03 15:24:04.800\n",
      "1     2021-01-03 15:24:04.800\n",
      "2     2021-01-03 15:24:04.800\n",
      "3     2021-01-03 15:25:30.554\n",
      "4     2021-01-03 15:24:04.800\n",
      "                ...          \n",
      "490   2014-12-19 14:21:22.381\n",
      "491   2014-12-19 14:21:22.381\n",
      "492   2014-12-19 14:21:22.381\n",
      "493   2014-12-19 14:21:22.381\n",
      "494   2014-12-19 14:21:22.381\n",
      "Name: createdDate, Length: 495, dtype: datetime64[ns]\n"
     ]
    }
   ],
   "source": [
    "print(users_df['lastLogin'], users_df['createdDate'])"
   ]
  },
  {
   "cell_type": "code",
   "execution_count": 26,
   "id": "028d2586",
   "metadata": {},
   "outputs": [
    {
     "name": "stdout",
     "output_type": "stream",
     "text": [
      "Number of missing values in 'lastLogin': 62\n",
      "Number of missing values in 'createdDate': 0\n"
     ]
    }
   ],
   "source": [
    "missing_values_count = users_df['lastLogin'].isnull().sum()\n",
    "print(\"Number of missing values in 'lastLogin':\", missing_values_count)\n",
    "\n",
    "missing_values_count = users_df['createdDate'].isnull().sum()\n",
    "print(\"Number of missing values in 'createdDate':\", missing_values_count)"
   ]
  },
  {
   "cell_type": "markdown",
   "id": "68342061",
   "metadata": {},
   "source": [
    "Handling the missing values in the 'lastLogin' column."
   ]
  },
  {
   "cell_type": "code",
   "execution_count": 27,
   "id": "9dd36f8c",
   "metadata": {},
   "outputs": [],
   "source": [
    "#Forward-filling missing values in 'lastLogin' column\n",
    "users_df['lastLogin'].fillna(method='ffill', inplace=True)"
   ]
  },
  {
   "cell_type": "code",
   "execution_count": 28,
   "id": "bc7fe72e",
   "metadata": {},
   "outputs": [
    {
     "name": "stdout",
     "output_type": "stream",
     "text": [
      "Number of missing values in 'lastLogin': 0\n"
     ]
    }
   ],
   "source": [
    "missing_values_count = users_df['lastLogin'].isnull().sum()\n",
    "print(\"Number of missing values in 'lastLogin':\", missing_values_count)"
   ]
  },
  {
   "cell_type": "markdown",
   "id": "bf048fa3",
   "metadata": {},
   "source": [
    "Converting the '_id' column into a more useable format"
   ]
  },
  {
   "cell_type": "code",
   "execution_count": 30,
   "id": "7408ecf0",
   "metadata": {},
   "outputs": [],
   "source": [
    "# Defining a custom function to extract the BSON ObjectID from the dictionary\n",
    "def extract_oid(val):\n",
    "    if pd.notna(val):  # Checking for NaN or missing values\n",
    "        return val['$oid']\n",
    "    else:\n",
    "        return val\n",
    "\n",
    "# Extracting the BSON ObjectID from the dictionary\n",
    "users_df['_id'] = users_df['_id'].apply(extract_oid)"
   ]
  },
  {
   "cell_type": "code",
   "execution_count": 31,
   "id": "27cfad3b",
   "metadata": {},
   "outputs": [
    {
     "name": "stdout",
     "output_type": "stream",
     "text": [
      "0      5ff1e194b6a9d73a3a9f1052\n",
      "1      5ff1e194b6a9d73a3a9f1052\n",
      "2      5ff1e194b6a9d73a3a9f1052\n",
      "3      5ff1e1eacfcf6c399c274ae6\n",
      "4      5ff1e194b6a9d73a3a9f1052\n",
      "                 ...           \n",
      "490    54943462e4b07e684157a532\n",
      "491    54943462e4b07e684157a532\n",
      "492    54943462e4b07e684157a532\n",
      "493    54943462e4b07e684157a532\n",
      "494    54943462e4b07e684157a532\n",
      "Name: _id, Length: 495, dtype: object\n"
     ]
    }
   ],
   "source": [
    "print(users_df['_id'])"
   ]
  },
  {
   "cell_type": "markdown",
   "id": "18d726e1",
   "metadata": {},
   "source": [
    "# Data Cleaning (Brands data)"
   ]
  },
  {
   "cell_type": "markdown",
   "id": "7ba31440",
   "metadata": {},
   "source": [
    "Checking if there are any missing values in the 'Brands' data"
   ]
  },
  {
   "cell_type": "code",
   "execution_count": 32,
   "id": "df5b9c51",
   "metadata": {},
   "outputs": [
    {
     "name": "stdout",
     "output_type": "stream",
     "text": [
      "There are missing values in the Brands DataFrame.\n"
     ]
    }
   ],
   "source": [
    "if brands_df.isnull().any().any():\n",
    "    print(\"There are missing values in the Brands DataFrame.\")\n",
    "else:\n",
    "    print(\"There are no missing values in the Brands DataFrame.\")"
   ]
  },
  {
   "cell_type": "code",
   "execution_count": 33,
   "id": "373fa0bd",
   "metadata": {},
   "outputs": [],
   "source": [
    "#Creating a boolean mask to identify missing values\n",
    "missing_mask_brands = brands_df.isnull()"
   ]
  },
  {
   "cell_type": "code",
   "execution_count": 34,
   "id": "69438e70",
   "metadata": {},
   "outputs": [
    {
     "name": "stdout",
     "output_type": "stream",
     "text": [
      "Total missing values in the DataFrame: 1651\n"
     ]
    }
   ],
   "source": [
    "# Total number of missing values in the entire DataFrame\n",
    "total_missing_values = missing_mask_brands.sum().sum()\n",
    "print(\"Total missing values in the DataFrame:\", total_missing_values)"
   ]
  },
  {
   "cell_type": "code",
   "execution_count": 37,
   "id": "36e14c4b",
   "metadata": {},
   "outputs": [
    {
     "name": "stdout",
     "output_type": "stream",
     "text": [
      "_id               0\n",
      "barcode           0\n",
      "category        155\n",
      "categoryCode    650\n",
      "cpg               0\n",
      "name              0\n",
      "topBrand        612\n",
      "brandCode       234\n",
      "dtype: int64\n",
      "0       1\n",
      "1       0\n",
      "2       0\n",
      "3       0\n",
      "4       0\n",
      "       ..\n",
      "1162    2\n",
      "1163    2\n",
      "1164    1\n",
      "1165    1\n",
      "1166    0\n",
      "Length: 1167, dtype: int64\n"
     ]
    }
   ],
   "source": [
    "# Counting the number of missing values in each column\n",
    "missing_values_in_columns_brands = brands_df.isnull().sum()\n",
    "print(missing_values_in_columns_brands)\n",
    "\n",
    "# Counting the number of missing values in each row\n",
    "missing_values_in_rows_brands = brands_df.isnull().sum(axis=1)\n",
    "print(missing_values_in_rows_brands)"
   ]
  },
  {
   "cell_type": "markdown",
   "id": "11b420b0",
   "metadata": {},
   "source": [
    "Handling the 155 missing values found in the 'category' column"
   ]
  },
  {
   "cell_type": "code",
   "execution_count": 47,
   "id": "430850eb",
   "metadata": {},
   "outputs": [],
   "source": [
    "# Filling missing values in the 'category' column with 'Unknown'\n",
    "brands_df['category'].fillna('Unknown', inplace=True)"
   ]
  },
  {
   "cell_type": "code",
   "execution_count": 48,
   "id": "23c98110",
   "metadata": {},
   "outputs": [
    {
     "name": "stdout",
     "output_type": "stream",
     "text": [
      "0                   Baking\n",
      "1                Beverages\n",
      "2                   Baking\n",
      "3                   Baking\n",
      "4           Candy & Sweets\n",
      "               ...        \n",
      "1162                Baking\n",
      "1163    Breakfast & Cereal\n",
      "1164        Candy & Sweets\n",
      "1165               Grocery\n",
      "1166                Baking\n",
      "Name: category, Length: 1167, dtype: object\n"
     ]
    }
   ],
   "source": [
    "print(brands_df['category'])"
   ]
  },
  {
   "cell_type": "code",
   "execution_count": 45,
   "id": "1a26912d",
   "metadata": {},
   "outputs": [
    {
     "name": "stdout",
     "output_type": "stream",
     "text": [
      "Number of missing values in 'category': 0\n"
     ]
    }
   ],
   "source": [
    "#Cross-verifying the number of missing values in the column to ensure the missing values are handled successfully \n",
    "missing_values_count_ = brands_df['category'].isnull().sum()\n",
    "print(\"Number of missing values in 'category':\", missing_values_count_)"
   ]
  },
  {
   "cell_type": "markdown",
   "id": "3cc3a02a",
   "metadata": {},
   "source": [
    "Likewise, the 650 missing values values in the 'categoryCode' column are handled."
   ]
  },
  {
   "cell_type": "code",
   "execution_count": 49,
   "id": "621714ad",
   "metadata": {},
   "outputs": [],
   "source": [
    "# Filling missing values in the 'categoryCode' column with 'Unknown'\n",
    "brands_df['categoryCode'].fillna('Unknown', inplace=True)"
   ]
  },
  {
   "cell_type": "code",
   "execution_count": 50,
   "id": "ebf20255",
   "metadata": {},
   "outputs": [
    {
     "name": "stdout",
     "output_type": "stream",
     "text": [
      "0                 BAKING\n",
      "1              BEVERAGES\n",
      "2                 BAKING\n",
      "3                 BAKING\n",
      "4       CANDY_AND_SWEETS\n",
      "              ...       \n",
      "1162              BAKING\n",
      "1163             Unknown\n",
      "1164    CANDY_AND_SWEETS\n",
      "1165             Unknown\n",
      "1166              BAKING\n",
      "Name: categoryCode, Length: 1167, dtype: object\n"
     ]
    }
   ],
   "source": [
    "print(brands_df['categoryCode'])"
   ]
  },
  {
   "cell_type": "code",
   "execution_count": 52,
   "id": "0085385c",
   "metadata": {},
   "outputs": [
    {
     "name": "stdout",
     "output_type": "stream",
     "text": [
      "Number of missing values in 'categoryCode': 0\n"
     ]
    }
   ],
   "source": [
    "#Cross-verifying the number of missing values in the column to ensure the missing values are handled successfully \n",
    "missing_val_count_ = brands_df['categoryCode'].isnull().sum()\n",
    "print(\"Number of missing values in 'categoryCode':\", missing_val_count_)"
   ]
  },
  {
   "cell_type": "markdown",
   "id": "6463b904",
   "metadata": {},
   "source": [
    "Handling the 612 missing values in the 'topBrand' column"
   ]
  },
  {
   "cell_type": "code",
   "execution_count": 54,
   "id": "da15b207",
   "metadata": {},
   "outputs": [
    {
     "name": "stdout",
     "output_type": "stream",
     "text": [
      "The 'topBrand' column is not categorical.\n"
     ]
    }
   ],
   "source": [
    "# Checking the data type of the 'topBrand' column\n",
    "data_type = brands_df['topBrand'].dtype\n",
    "\n",
    "if data_type == 'object':\n",
    "    # The column is categorical (represented as an object/string data type)\n",
    "    print(\"The 'topBrand' column is categorical.\")\n",
    "else:\n",
    "    # The column is not categorical\n",
    "    print(\"The 'topBrand' column is not categorical.\")"
   ]
  },
  {
   "cell_type": "code",
   "execution_count": 55,
   "id": "bece5f01",
   "metadata": {},
   "outputs": [],
   "source": [
    "# Filling missing values with 0.0\n",
    "brands_df['topBrand'].fillna(0.0, inplace=True)"
   ]
  },
  {
   "cell_type": "code",
   "execution_count": 56,
   "id": "49d74286",
   "metadata": {},
   "outputs": [
    {
     "name": "stdout",
     "output_type": "stream",
     "text": [
      "0       0.0\n",
      "1       0.0\n",
      "2       0.0\n",
      "3       0.0\n",
      "4       0.0\n",
      "       ... \n",
      "1162    0.0\n",
      "1163    0.0\n",
      "1164    0.0\n",
      "1165    0.0\n",
      "1166    0.0\n",
      "Name: topBrand, Length: 1167, dtype: float64\n"
     ]
    }
   ],
   "source": [
    "print(brands_df['topBrand'])"
   ]
  },
  {
   "cell_type": "code",
   "execution_count": 57,
   "id": "58d604a9",
   "metadata": {},
   "outputs": [
    {
     "name": "stdout",
     "output_type": "stream",
     "text": [
      "Number of missing values in 'topBrand': 0\n"
     ]
    }
   ],
   "source": [
    "#Cross-verifying the number of missing values in the column to ensure the missing values are handled successfully \n",
    "missing_val_count = brands_df['topBrand'].isnull().sum()\n",
    "print(\"Number of missing values in 'topBrand':\", missing_val_count)"
   ]
  },
  {
   "cell_type": "code",
   "execution_count": 58,
   "id": "8ea284e8",
   "metadata": {},
   "outputs": [
    {
     "name": "stdout",
     "output_type": "stream",
     "text": [
      "0                                 NaN\n",
      "1                           STARBUCKS\n",
      "2       TEST BRANDCODE @1612366146176\n",
      "3       TEST BRANDCODE @1612366146051\n",
      "4       TEST BRANDCODE @1612366146827\n",
      "                    ...              \n",
      "1162                              NaN\n",
      "1163               DIPPIN DOTS CEREAL\n",
      "1164    TEST BRANDCODE @1598639215217\n",
      "1165                LIPTON TEA Leaves\n",
      "1166    TEST BRANDCODE @1613158231644\n",
      "Name: brandCode, Length: 1167, dtype: object\n"
     ]
    }
   ],
   "source": [
    "print(brands_df['brandCode'])"
   ]
  },
  {
   "cell_type": "code",
   "execution_count": 59,
   "id": "e7063ee1",
   "metadata": {},
   "outputs": [],
   "source": [
    "# Filling NaN and test codes with 'Unknown'\n",
    "brands_df['brandCode'].fillna('Unknown', inplace=True)\n",
    "brands_df['brandCode'] = brands_df['brandCode'].str.replace(r'^TEST BRANDCODE @\\d+$', 'Unknown', regex=True)"
   ]
  },
  {
   "cell_type": "code",
   "execution_count": 60,
   "id": "c1d253fc",
   "metadata": {},
   "outputs": [
    {
     "name": "stdout",
     "output_type": "stream",
     "text": [
      "0                  Unknown\n",
      "1                STARBUCKS\n",
      "2                  Unknown\n",
      "3                  Unknown\n",
      "4                  Unknown\n",
      "               ...        \n",
      "1162               Unknown\n",
      "1163    DIPPIN DOTS CEREAL\n",
      "1164               Unknown\n",
      "1165     LIPTON TEA Leaves\n",
      "1166               Unknown\n",
      "Name: brandCode, Length: 1167, dtype: object\n"
     ]
    }
   ],
   "source": [
    "print(brands_df['brandCode'])"
   ]
  },
  {
   "cell_type": "code",
   "execution_count": 61,
   "id": "05e05923",
   "metadata": {},
   "outputs": [
    {
     "name": "stdout",
     "output_type": "stream",
     "text": [
      "Number of missing values in 'brandCode': 0\n"
     ]
    }
   ],
   "source": [
    "#Cross-verifying the number of missing values in the column to ensure the missing values are handled successfully \n",
    "missing_val_cnt_ = brands_df['brandCode'].isnull().sum()\n",
    "print(\"Number of missing values in 'brandCode':\", missing_val_cnt_)"
   ]
  },
  {
   "cell_type": "markdown",
   "id": "01be613f",
   "metadata": {},
   "source": [
    "Extracting the time stamps from the nested dictionary in the '_id' column and storing it as strings"
   ]
  },
  {
   "cell_type": "code",
   "execution_count": 174,
   "id": "1e04b2c5",
   "metadata": {},
   "outputs": [],
   "source": [
    "# Defining a custom function to extract the timestamp from the nested dictionary\n",
    "def extract_timestamp(val):\n",
    "    if pd.notna(val):\n",
    "        return val['$oid']\n",
    "    else:\n",
    "        return val\n",
    "\n",
    "# Storing the extracted time stamps as strings in the _id column\n",
    "brands_df['_id'] = brands_df['_id'].apply(extract_timestamp)"
   ]
  },
  {
   "cell_type": "code",
   "execution_count": 175,
   "id": "5f3043bc",
   "metadata": {},
   "outputs": [
    {
     "name": "stdout",
     "output_type": "stream",
     "text": [
      "0       601ac115be37ce2ead437551\n",
      "1       601c5460be37ce2ead43755f\n",
      "2       601ac142be37ce2ead43755d\n",
      "3       601ac142be37ce2ead43755a\n",
      "4       601ac142be37ce2ead43755e\n",
      "                  ...           \n",
      "1162    5f77274dbe37ce6b592e90c0\n",
      "1163    5dc1fca91dda2c0ad7da64ae\n",
      "1164    5f494c6e04db711dd8fe87e7\n",
      "1165    5a021611e4b00efe02b02a57\n",
      "1166    6026d757be37ce6369301468\n",
      "Name: _id, Length: 1167, dtype: object\n"
     ]
    }
   ],
   "source": [
    "print(brands_df['_id'])"
   ]
  },
  {
   "cell_type": "markdown",
   "id": "fdbbe4b0",
   "metadata": {},
   "source": [
    "Cleaning the 'cpg' column"
   ]
  },
  {
   "cell_type": "code",
   "execution_count": 176,
   "id": "ad430e1c",
   "metadata": {},
   "outputs": [],
   "source": [
    "# Defining a custom function to extract the relevant information from the 'cpg' column\n",
    "def extract_cpg_info(cpg_data):\n",
    "    if isinstance(cpg_data, dict):\n",
    "        # If the 'cpg_data' is a dictionary, extract the values for each key\n",
    "        return cpg_data.get('$id'), cpg_data.get('$ref')\n",
    "    else:\n",
    "        # If the 'cpg_data' is a reference, split and extract the reference value\n",
    "        return cpg_data.split(',')[1].split(':')[1].strip()\n",
    "\n",
    "# Applying the custom function to the 'cpg' column and creating new columns for the extracted data\n",
    "brands_df[['cpg_id', 'cpg_ref']] = brands_df['cpg'].apply(extract_cpg_info).apply(pd.Series)"
   ]
  },
  {
   "cell_type": "code",
   "execution_count": 181,
   "id": "1f8ded61",
   "metadata": {},
   "outputs": [],
   "source": [
    "# Dropping the original 'cpg' column\n",
    "brands_df.drop(columns=['cpg'], inplace=True)"
   ]
  },
  {
   "cell_type": "code",
   "execution_count": 178,
   "id": "9dd08ff0",
   "metadata": {},
   "outputs": [
    {
     "name": "stdout",
     "output_type": "stream",
     "text": [
      "0       {'$oid': '601ac114be37ce2ead437550'}\n",
      "1       {'$oid': '5332f5fbe4b03c9a25efd0ba'}\n",
      "2       {'$oid': '601ac142be37ce2ead437559'}\n",
      "3       {'$oid': '601ac142be37ce2ead437559'}\n",
      "4       {'$oid': '5332fa12e4b03c9a25efd1e7'}\n",
      "                        ...                 \n",
      "1162    {'$oid': '5f77274dbe37ce6b592e90bf'}\n",
      "1163    {'$oid': '53e10d6368abd3c7065097cc'}\n",
      "1164    {'$oid': '5332fa12e4b03c9a25efd1e7'}\n",
      "1165    {'$oid': '5332f5f6e4b03c9a25efd0b4'}\n",
      "1166    {'$oid': '6026d757be37ce6369301467'}\n",
      "Name: cpg_id, Length: 1167, dtype: object\n"
     ]
    }
   ],
   "source": [
    "print(brands_df['cpg_id'])"
   ]
  },
  {
   "cell_type": "markdown",
   "id": "0b11af1f",
   "metadata": {},
   "source": [
    "Extracting the time stamps from the nested dictionary in the 'cpg_id' column and storing it as strings"
   ]
  },
  {
   "cell_type": "code",
   "execution_count": 188,
   "id": "3e7173c8",
   "metadata": {},
   "outputs": [],
   "source": [
    "# Defining a custom function to extract the timestamp from the nested dictionary\n",
    "def extract_timestamp(val):\n",
    "    if pd.notna(val):\n",
    "        return val['$oid']\n",
    "    else:\n",
    "        return val\n",
    "\n",
    "# Storing the extracted time stamps as strings in the cpg_id column\n",
    "brands_df['cpg_id'] = brands_df['cpg_id'].apply(extract_timestamp)"
   ]
  },
  {
   "cell_type": "code",
   "execution_count": 189,
   "id": "cc4c76ad",
   "metadata": {},
   "outputs": [
    {
     "name": "stdout",
     "output_type": "stream",
     "text": [
      "0       601ac114be37ce2ead437550\n",
      "1       5332f5fbe4b03c9a25efd0ba\n",
      "2       601ac142be37ce2ead437559\n",
      "3       601ac142be37ce2ead437559\n",
      "4       5332fa12e4b03c9a25efd1e7\n",
      "                  ...           \n",
      "1162    5f77274dbe37ce6b592e90bf\n",
      "1163    53e10d6368abd3c7065097cc\n",
      "1164    5332fa12e4b03c9a25efd1e7\n",
      "1165    5332f5f6e4b03c9a25efd0b4\n",
      "1166    6026d757be37ce6369301467\n",
      "Name: cpg_id, Length: 1167, dtype: object\n"
     ]
    }
   ],
   "source": [
    "print(brands_df['cpg_id'])"
   ]
  },
  {
   "cell_type": "code",
   "execution_count": 272,
   "id": "645916c1",
   "metadata": {},
   "outputs": [
    {
     "data": {
      "text/html": [
       "<div>\n",
       "<style scoped>\n",
       "    .dataframe tbody tr th:only-of-type {\n",
       "        vertical-align: middle;\n",
       "    }\n",
       "\n",
       "    .dataframe tbody tr th {\n",
       "        vertical-align: top;\n",
       "    }\n",
       "\n",
       "    .dataframe thead th {\n",
       "        text-align: right;\n",
       "    }\n",
       "</style>\n",
       "<table border=\"1\" class=\"dataframe\">\n",
       "  <thead>\n",
       "    <tr style=\"text-align: right;\">\n",
       "      <th></th>\n",
       "      <th>_id</th>\n",
       "      <th>barcode</th>\n",
       "      <th>category</th>\n",
       "      <th>categoryCode</th>\n",
       "      <th>name</th>\n",
       "      <th>topBrand</th>\n",
       "      <th>brandCode</th>\n",
       "      <th>cpg_id</th>\n",
       "      <th>cpg_ref</th>\n",
       "    </tr>\n",
       "  </thead>\n",
       "  <tbody>\n",
       "    <tr>\n",
       "      <th>0</th>\n",
       "      <td>601ac115be37ce2ead437551</td>\n",
       "      <td>511111019862</td>\n",
       "      <td>Baking</td>\n",
       "      <td>BAKING</td>\n",
       "      <td>test brand @1612366101024</td>\n",
       "      <td>0.0</td>\n",
       "      <td>Unknown</td>\n",
       "      <td>601ac114be37ce2ead437550</td>\n",
       "      <td>Cogs</td>\n",
       "    </tr>\n",
       "    <tr>\n",
       "      <th>1</th>\n",
       "      <td>601c5460be37ce2ead43755f</td>\n",
       "      <td>511111519928</td>\n",
       "      <td>Beverages</td>\n",
       "      <td>BEVERAGES</td>\n",
       "      <td>Starbucks</td>\n",
       "      <td>0.0</td>\n",
       "      <td>STARBUCKS</td>\n",
       "      <td>5332f5fbe4b03c9a25efd0ba</td>\n",
       "      <td>Cogs</td>\n",
       "    </tr>\n",
       "    <tr>\n",
       "      <th>2</th>\n",
       "      <td>601ac142be37ce2ead43755d</td>\n",
       "      <td>511111819905</td>\n",
       "      <td>Baking</td>\n",
       "      <td>BAKING</td>\n",
       "      <td>test brand @1612366146176</td>\n",
       "      <td>0.0</td>\n",
       "      <td>Unknown</td>\n",
       "      <td>601ac142be37ce2ead437559</td>\n",
       "      <td>Cogs</td>\n",
       "    </tr>\n",
       "    <tr>\n",
       "      <th>3</th>\n",
       "      <td>601ac142be37ce2ead43755a</td>\n",
       "      <td>511111519874</td>\n",
       "      <td>Baking</td>\n",
       "      <td>BAKING</td>\n",
       "      <td>test brand @1612366146051</td>\n",
       "      <td>0.0</td>\n",
       "      <td>Unknown</td>\n",
       "      <td>601ac142be37ce2ead437559</td>\n",
       "      <td>Cogs</td>\n",
       "    </tr>\n",
       "    <tr>\n",
       "      <th>4</th>\n",
       "      <td>601ac142be37ce2ead43755e</td>\n",
       "      <td>511111319917</td>\n",
       "      <td>Candy &amp; Sweets</td>\n",
       "      <td>CANDY_AND_SWEETS</td>\n",
       "      <td>test brand @1612366146827</td>\n",
       "      <td>0.0</td>\n",
       "      <td>Unknown</td>\n",
       "      <td>5332fa12e4b03c9a25efd1e7</td>\n",
       "      <td>Cogs</td>\n",
       "    </tr>\n",
       "    <tr>\n",
       "      <th>...</th>\n",
       "      <td>...</td>\n",
       "      <td>...</td>\n",
       "      <td>...</td>\n",
       "      <td>...</td>\n",
       "      <td>...</td>\n",
       "      <td>...</td>\n",
       "      <td>...</td>\n",
       "      <td>...</td>\n",
       "      <td>...</td>\n",
       "    </tr>\n",
       "    <tr>\n",
       "      <th>1162</th>\n",
       "      <td>5f77274dbe37ce6b592e90c0</td>\n",
       "      <td>511111116752</td>\n",
       "      <td>Baking</td>\n",
       "      <td>BAKING</td>\n",
       "      <td>test brand @1601644365844</td>\n",
       "      <td>0.0</td>\n",
       "      <td>Unknown</td>\n",
       "      <td>5f77274dbe37ce6b592e90bf</td>\n",
       "      <td>Cogs</td>\n",
       "    </tr>\n",
       "    <tr>\n",
       "      <th>1163</th>\n",
       "      <td>5dc1fca91dda2c0ad7da64ae</td>\n",
       "      <td>511111706328</td>\n",
       "      <td>Breakfast &amp; Cereal</td>\n",
       "      <td>Unknown</td>\n",
       "      <td>Dippin Dots® Cereal</td>\n",
       "      <td>0.0</td>\n",
       "      <td>DIPPIN DOTS CEREAL</td>\n",
       "      <td>53e10d6368abd3c7065097cc</td>\n",
       "      <td>Cogs</td>\n",
       "    </tr>\n",
       "    <tr>\n",
       "      <th>1164</th>\n",
       "      <td>5f494c6e04db711dd8fe87e7</td>\n",
       "      <td>511111416173</td>\n",
       "      <td>Candy &amp; Sweets</td>\n",
       "      <td>CANDY_AND_SWEETS</td>\n",
       "      <td>test brand @1598639215217</td>\n",
       "      <td>0.0</td>\n",
       "      <td>Unknown</td>\n",
       "      <td>5332fa12e4b03c9a25efd1e7</td>\n",
       "      <td>Cogs</td>\n",
       "    </tr>\n",
       "    <tr>\n",
       "      <th>1165</th>\n",
       "      <td>5a021611e4b00efe02b02a57</td>\n",
       "      <td>511111400608</td>\n",
       "      <td>Grocery</td>\n",
       "      <td>Unknown</td>\n",
       "      <td>LIPTON TEA Leaves</td>\n",
       "      <td>0.0</td>\n",
       "      <td>LIPTON TEA Leaves</td>\n",
       "      <td>5332f5f6e4b03c9a25efd0b4</td>\n",
       "      <td>Cogs</td>\n",
       "    </tr>\n",
       "    <tr>\n",
       "      <th>1166</th>\n",
       "      <td>6026d757be37ce6369301468</td>\n",
       "      <td>511111019930</td>\n",
       "      <td>Baking</td>\n",
       "      <td>BAKING</td>\n",
       "      <td>test brand @1613158231643</td>\n",
       "      <td>0.0</td>\n",
       "      <td>Unknown</td>\n",
       "      <td>6026d757be37ce6369301467</td>\n",
       "      <td>Cogs</td>\n",
       "    </tr>\n",
       "  </tbody>\n",
       "</table>\n",
       "<p>1167 rows × 9 columns</p>\n",
       "</div>"
      ],
      "text/plain": [
       "                           _id       barcode            category  \\\n",
       "0     601ac115be37ce2ead437551  511111019862              Baking   \n",
       "1     601c5460be37ce2ead43755f  511111519928           Beverages   \n",
       "2     601ac142be37ce2ead43755d  511111819905              Baking   \n",
       "3     601ac142be37ce2ead43755a  511111519874              Baking   \n",
       "4     601ac142be37ce2ead43755e  511111319917      Candy & Sweets   \n",
       "...                        ...           ...                 ...   \n",
       "1162  5f77274dbe37ce6b592e90c0  511111116752              Baking   \n",
       "1163  5dc1fca91dda2c0ad7da64ae  511111706328  Breakfast & Cereal   \n",
       "1164  5f494c6e04db711dd8fe87e7  511111416173      Candy & Sweets   \n",
       "1165  5a021611e4b00efe02b02a57  511111400608             Grocery   \n",
       "1166  6026d757be37ce6369301468  511111019930              Baking   \n",
       "\n",
       "          categoryCode                       name  topBrand  \\\n",
       "0               BAKING  test brand @1612366101024       0.0   \n",
       "1            BEVERAGES                  Starbucks       0.0   \n",
       "2               BAKING  test brand @1612366146176       0.0   \n",
       "3               BAKING  test brand @1612366146051       0.0   \n",
       "4     CANDY_AND_SWEETS  test brand @1612366146827       0.0   \n",
       "...                ...                        ...       ...   \n",
       "1162            BAKING  test brand @1601644365844       0.0   \n",
       "1163           Unknown        Dippin Dots® Cereal       0.0   \n",
       "1164  CANDY_AND_SWEETS  test brand @1598639215217       0.0   \n",
       "1165           Unknown          LIPTON TEA Leaves       0.0   \n",
       "1166            BAKING  test brand @1613158231643       0.0   \n",
       "\n",
       "               brandCode                    cpg_id cpg_ref  \n",
       "0                Unknown  601ac114be37ce2ead437550    Cogs  \n",
       "1              STARBUCKS  5332f5fbe4b03c9a25efd0ba    Cogs  \n",
       "2                Unknown  601ac142be37ce2ead437559    Cogs  \n",
       "3                Unknown  601ac142be37ce2ead437559    Cogs  \n",
       "4                Unknown  5332fa12e4b03c9a25efd1e7    Cogs  \n",
       "...                  ...                       ...     ...  \n",
       "1162             Unknown  5f77274dbe37ce6b592e90bf    Cogs  \n",
       "1163  DIPPIN DOTS CEREAL  53e10d6368abd3c7065097cc    Cogs  \n",
       "1164             Unknown  5332fa12e4b03c9a25efd1e7    Cogs  \n",
       "1165   LIPTON TEA Leaves  5332f5f6e4b03c9a25efd0b4    Cogs  \n",
       "1166             Unknown  6026d757be37ce6369301467    Cogs  \n",
       "\n",
       "[1167 rows x 9 columns]"
      ]
     },
     "execution_count": 272,
     "metadata": {},
     "output_type": "execute_result"
    }
   ],
   "source": [
    "brands_df"
   ]
  },
  {
   "cell_type": "markdown",
   "id": "d0dc9162",
   "metadata": {},
   "source": [
    "# Data Cleaning (Receipts data)"
   ]
  },
  {
   "cell_type": "markdown",
   "id": "cb833e12",
   "metadata": {},
   "source": [
    "When checked, it was found that the 'Receipts' data had missing values as well."
   ]
  },
  {
   "cell_type": "code",
   "execution_count": 63,
   "id": "5afd2ff1",
   "metadata": {},
   "outputs": [],
   "source": [
    "#Creating a boolean mask to identify missing values\n",
    "missing_mask_receipts = receipts_df.isnull()"
   ]
  },
  {
   "cell_type": "code",
   "execution_count": 64,
   "id": "8e63f0a3",
   "metadata": {},
   "outputs": [
    {
     "name": "stdout",
     "output_type": "stream",
     "text": [
      "Total missing values in the DataFrame: 4600\n"
     ]
    }
   ],
   "source": [
    "# Total number of missing values in the entire DataFrame\n",
    "total_missing_val = missing_mask_receipts.sum().sum()\n",
    "print(\"Total missing values in the DataFrame:\", total_missing_val)"
   ]
  },
  {
   "cell_type": "code",
   "execution_count": 66,
   "id": "0dd7e5f8",
   "metadata": {},
   "outputs": [
    {
     "name": "stdout",
     "output_type": "stream",
     "text": [
      "_id                          0\n",
      "bonusPointsEarned          575\n",
      "bonusPointsEarnedReason    575\n",
      "createDate                   0\n",
      "dateScanned                  0\n",
      "finishedDate               551\n",
      "modifyDate                   0\n",
      "pointsAwardedDate          582\n",
      "pointsEarned               510\n",
      "purchaseDate               448\n",
      "purchasedItemCount         484\n",
      "rewardsReceiptItemList     440\n",
      "rewardsReceiptStatus         0\n",
      "totalSpent                 435\n",
      "userId                       0\n",
      "dtype: int64\n",
      "0       0\n",
      "1       0\n",
      "2       2\n",
      "3       0\n",
      "4       0\n",
      "       ..\n",
      "1114    2\n",
      "1115    9\n",
      "1116    9\n",
      "1117    2\n",
      "1118    9\n",
      "Length: 1119, dtype: int64\n"
     ]
    }
   ],
   "source": [
    "# Counting the number of missing values in each column\n",
    "missing_values_in_columns_receipts = receipts_df.isnull().sum()\n",
    "print(missing_values_in_columns_receipts)\n",
    "\n",
    "# Counting the number of missing values in each row\n",
    "missing_values_in_rows_receipts = receipts_df.isnull().sum(axis=1)\n",
    "print(missing_values_in_rows_receipts)"
   ]
  },
  {
   "cell_type": "markdown",
   "id": "5614198f",
   "metadata": {},
   "source": [
    "Handling the 575 missing values in the 'bonusPointsEarned' column."
   ]
  },
  {
   "cell_type": "code",
   "execution_count": 67,
   "id": "cd97d792",
   "metadata": {},
   "outputs": [
    {
     "name": "stdout",
     "output_type": "stream",
     "text": [
      "0       500.0\n",
      "1       150.0\n",
      "2         5.0\n",
      "3         5.0\n",
      "4         5.0\n",
      "        ...  \n",
      "1114     25.0\n",
      "1115      NaN\n",
      "1116      NaN\n",
      "1117     25.0\n",
      "1118      NaN\n",
      "Name: bonusPointsEarned, Length: 1119, dtype: float64\n"
     ]
    }
   ],
   "source": [
    "print(receipts_df['bonusPointsEarned'])"
   ]
  },
  {
   "cell_type": "code",
   "execution_count": 68,
   "id": "86fba7fe",
   "metadata": {},
   "outputs": [],
   "source": [
    "# Filling missing values with 0.0\n",
    "receipts_df['bonusPointsEarned'].fillna(0.0, inplace=True)"
   ]
  },
  {
   "cell_type": "code",
   "execution_count": 69,
   "id": "83a3bc91",
   "metadata": {},
   "outputs": [
    {
     "name": "stdout",
     "output_type": "stream",
     "text": [
      "0       500.0\n",
      "1       150.0\n",
      "2         5.0\n",
      "3         5.0\n",
      "4         5.0\n",
      "        ...  \n",
      "1114     25.0\n",
      "1115      0.0\n",
      "1116      0.0\n",
      "1117     25.0\n",
      "1118      0.0\n",
      "Name: bonusPointsEarned, Length: 1119, dtype: float64\n"
     ]
    }
   ],
   "source": [
    "print(receipts_df['bonusPointsEarned'])"
   ]
  },
  {
   "cell_type": "code",
   "execution_count": 71,
   "id": "cfdd31ef",
   "metadata": {},
   "outputs": [
    {
     "name": "stdout",
     "output_type": "stream",
     "text": [
      "Number of missing values in 'bonusPointsEarned': 0\n"
     ]
    }
   ],
   "source": [
    "#Cross-verifying the number of missing values in the column to ensure the missing values are handled successfully \n",
    "missing_val_cnt = receipts_df['bonusPointsEarned'].isnull().sum()\n",
    "print(\"Number of missing values in 'bonusPointsEarned':\", missing_val_cnt)"
   ]
  },
  {
   "cell_type": "markdown",
   "id": "d0459d66",
   "metadata": {},
   "source": [
    "Handling the 575 missing values in the 'bonusPointsEarnedReason' column."
   ]
  },
  {
   "cell_type": "code",
   "execution_count": 72,
   "id": "ec887a9c",
   "metadata": {},
   "outputs": [
    {
     "name": "stdout",
     "output_type": "stream",
     "text": [
      "0       Receipt number 2 completed, bonus point schedu...\n",
      "1       Receipt number 5 completed, bonus point schedu...\n",
      "2                              All-receipts receipt bonus\n",
      "3                              All-receipts receipt bonus\n",
      "4                              All-receipts receipt bonus\n",
      "                              ...                        \n",
      "1114                          COMPLETE_NONPARTNER_RECEIPT\n",
      "1115                                                  NaN\n",
      "1116                                                  NaN\n",
      "1117                          COMPLETE_NONPARTNER_RECEIPT\n",
      "1118                                                  NaN\n",
      "Name: bonusPointsEarnedReason, Length: 1119, dtype: object\n"
     ]
    }
   ],
   "source": [
    "print(receipts_df['bonusPointsEarnedReason'])"
   ]
  },
  {
   "cell_type": "code",
   "execution_count": 74,
   "id": "2d23bdfa",
   "metadata": {},
   "outputs": [],
   "source": [
    "# Filling missing values in the 'bonusPointsEarnedReason' column with 'Unknown'\n",
    "receipts_df['bonusPointsEarnedReason'].fillna('Unknown', inplace=True)"
   ]
  },
  {
   "cell_type": "code",
   "execution_count": 75,
   "id": "cf4ff14d",
   "metadata": {},
   "outputs": [
    {
     "name": "stdout",
     "output_type": "stream",
     "text": [
      "0       Receipt number 2 completed, bonus point schedu...\n",
      "1       Receipt number 5 completed, bonus point schedu...\n",
      "2                              All-receipts receipt bonus\n",
      "3                              All-receipts receipt bonus\n",
      "4                              All-receipts receipt bonus\n",
      "                              ...                        \n",
      "1114                          COMPLETE_NONPARTNER_RECEIPT\n",
      "1115                                              Unknown\n",
      "1116                                              Unknown\n",
      "1117                          COMPLETE_NONPARTNER_RECEIPT\n",
      "1118                                              Unknown\n",
      "Name: bonusPointsEarnedReason, Length: 1119, dtype: object\n"
     ]
    }
   ],
   "source": [
    "print(receipts_df['bonusPointsEarnedReason'])"
   ]
  },
  {
   "cell_type": "code",
   "execution_count": 77,
   "id": "53e790da",
   "metadata": {},
   "outputs": [
    {
     "name": "stdout",
     "output_type": "stream",
     "text": [
      "Number of missing values in 'bonusPointsEarnedReason': 0\n"
     ]
    }
   ],
   "source": [
    "#Cross-verifying the number of missing values in the column to ensure the missing values are handled successfully \n",
    "missing_val_cntt = receipts_df['bonusPointsEarnedReason'].isnull().sum()\n",
    "print(\"Number of missing values in 'bonusPointsEarnedReason':\", missing_val_cntt)"
   ]
  },
  {
   "cell_type": "markdown",
   "id": "6276b9b3",
   "metadata": {},
   "source": [
    "Changing the format and handling missing values in the 'finishedDate' column"
   ]
  },
  {
   "cell_type": "code",
   "execution_count": 78,
   "id": "0b1ae820",
   "metadata": {},
   "outputs": [
    {
     "name": "stdout",
     "output_type": "stream",
     "text": [
      "0       {'$date': 1609687531000}\n",
      "1       {'$date': 1609687483000}\n",
      "2                            NaN\n",
      "3       {'$date': 1609687534000}\n",
      "4       {'$date': 1609687511000}\n",
      "                  ...           \n",
      "1114                         NaN\n",
      "1115                         NaN\n",
      "1116                         NaN\n",
      "1117                         NaN\n",
      "1118                         NaN\n",
      "Name: finishedDate, Length: 1119, dtype: object\n"
     ]
    }
   ],
   "source": [
    "#Printing the finishedDate column to check the format of the values\n",
    "print(receipts_df['finishedDate'])"
   ]
  },
  {
   "cell_type": "markdown",
   "id": "059e4704",
   "metadata": {},
   "source": [
    "Converting the values in the 'finishedDate' column from the given format to a usable datetime format."
   ]
  },
  {
   "cell_type": "code",
   "execution_count": 79,
   "id": "43648225",
   "metadata": {},
   "outputs": [],
   "source": [
    "# Defining a custom function to extract the timestamp from the nested dictionary\n",
    "def extract_timestamp(val):\n",
    "    if pd.notna(val):\n",
    "        return val['$date']\n",
    "    else:\n",
    "        return val\n",
    "\n",
    "# Converting the values in 'finishedDate' to a datetime format using the custom function\n",
    "receipts_df['finishedDate'] = receipts_df['finishedDate'].apply(extract_timestamp)\n",
    "receipts_df['finishedDate'] = pd.to_datetime(receipts_df['finishedDate'], unit='ms')"
   ]
  },
  {
   "cell_type": "markdown",
   "id": "aa31b48a",
   "metadata": {},
   "source": [
    "Handling the 551 missing values in the 'finishedDate' column."
   ]
  },
  {
   "cell_type": "code",
   "execution_count": 83,
   "id": "c276b299",
   "metadata": {},
   "outputs": [],
   "source": [
    "# Imputing missing values with 'Unknown'\n",
    "receipts_df['finishedDate'].fillna('Unknown', inplace=True)"
   ]
  },
  {
   "cell_type": "code",
   "execution_count": 85,
   "id": "ab85b9d5",
   "metadata": {},
   "outputs": [
    {
     "name": "stdout",
     "output_type": "stream",
     "text": [
      "0       2021-01-03 15:25:31\n",
      "1       2021-01-03 15:24:43\n",
      "2                   Unknown\n",
      "3       2021-01-03 15:25:34\n",
      "4       2021-01-03 15:25:11\n",
      "               ...         \n",
      "1114                Unknown\n",
      "1115                Unknown\n",
      "1116                Unknown\n",
      "1117                Unknown\n",
      "1118                Unknown\n",
      "Name: finishedDate, Length: 1119, dtype: object\n"
     ]
    }
   ],
   "source": [
    "print(receipts_df['finishedDate'])"
   ]
  },
  {
   "cell_type": "code",
   "execution_count": 97,
   "id": "237f4476",
   "metadata": {},
   "outputs": [
    {
     "name": "stdout",
     "output_type": "stream",
     "text": [
      "Number of missing values in 'finishedDate': 0\n"
     ]
    }
   ],
   "source": [
    "#Cross-verifying the number of missing values in the column to ensure the missing values are handled successfully \n",
    "the_missing_val_cnt = receipts_df['finishedDate'].isnull().sum()\n",
    "print(\"Number of missing values in 'finishedDate':\", the_missing_val_cnt)"
   ]
  },
  {
   "cell_type": "markdown",
   "id": "f2c39eab",
   "metadata": {},
   "source": [
    "Converting the values in the 'pointsAwardedDate' column from the given format to a usable datetime format."
   ]
  },
  {
   "cell_type": "code",
   "execution_count": 86,
   "id": "0a83338d",
   "metadata": {},
   "outputs": [
    {
     "name": "stdout",
     "output_type": "stream",
     "text": [
      "0       {'$date': 1609687531000}\n",
      "1       {'$date': 1609687483000}\n",
      "2                            NaN\n",
      "3       {'$date': 1609687534000}\n",
      "4       {'$date': 1609687506000}\n",
      "                  ...           \n",
      "1114                         NaN\n",
      "1115                         NaN\n",
      "1116                         NaN\n",
      "1117                         NaN\n",
      "1118                         NaN\n",
      "Name: pointsAwardedDate, Length: 1119, dtype: object\n"
     ]
    }
   ],
   "source": [
    "print(receipts_df['pointsAwardedDate'])"
   ]
  },
  {
   "cell_type": "code",
   "execution_count": 87,
   "id": "1bf8fd8d",
   "metadata": {},
   "outputs": [],
   "source": [
    "# Defining a custom function to extract the timestamp from the nested dictionary\n",
    "def extract_timestamp(val):\n",
    "    if pd.notna(val):\n",
    "        return val['$date']\n",
    "    else:\n",
    "        return val\n",
    "\n",
    "# Converting the values in 'pointsAwardedDate' to a datetime format using the custom function\n",
    "receipts_df['pointsAwardedDate'] = receipts_df['pointsAwardedDate'].apply(extract_timestamp)\n",
    "receipts_df['pointsAwardedDate'] = pd.to_datetime(receipts_df['pointsAwardedDate'], unit='ms')"
   ]
  },
  {
   "cell_type": "markdown",
   "id": "c2f797a3",
   "metadata": {},
   "source": [
    "Handling the 582 missing values in the 'pointsAwardedDate' column."
   ]
  },
  {
   "cell_type": "code",
   "execution_count": 88,
   "id": "ef3d5267",
   "metadata": {},
   "outputs": [],
   "source": [
    "# Imputing missing values with 'Unknown'\n",
    "receipts_df['pointsAwardedDate'].fillna('Unknown', inplace=True)"
   ]
  },
  {
   "cell_type": "code",
   "execution_count": 89,
   "id": "4ce9f560",
   "metadata": {},
   "outputs": [
    {
     "name": "stdout",
     "output_type": "stream",
     "text": [
      "0       2021-01-03 15:25:31\n",
      "1       2021-01-03 15:24:43\n",
      "2                   Unknown\n",
      "3       2021-01-03 15:25:34\n",
      "4       2021-01-03 15:25:06\n",
      "               ...         \n",
      "1114                Unknown\n",
      "1115                Unknown\n",
      "1116                Unknown\n",
      "1117                Unknown\n",
      "1118                Unknown\n",
      "Name: pointsAwardedDate, Length: 1119, dtype: object\n"
     ]
    }
   ],
   "source": [
    "print(receipts_df['pointsAwardedDate'])"
   ]
  },
  {
   "cell_type": "code",
   "execution_count": 96,
   "id": "24676366",
   "metadata": {},
   "outputs": [
    {
     "name": "stdout",
     "output_type": "stream",
     "text": [
      "Number of missing values in 'pointsAwardedDate': 0\n"
     ]
    }
   ],
   "source": [
    "#Cross-verifying the number of missing values in the column to ensure the missing values are handled successfully \n",
    "missing_vals_cntt = receipts_df['pointsAwardedDate'].isnull().sum()\n",
    "print(\"Number of missing values in 'pointsAwardedDate':\", missing_vals_cntt)"
   ]
  },
  {
   "cell_type": "markdown",
   "id": "a4a2712e",
   "metadata": {},
   "source": [
    "Handling the 510 missing values in the 'pointsEarned' column."
   ]
  },
  {
   "cell_type": "code",
   "execution_count": 90,
   "id": "391f4e94",
   "metadata": {},
   "outputs": [
    {
     "name": "stdout",
     "output_type": "stream",
     "text": [
      "0       500.0\n",
      "1       150.0\n",
      "2         5.0\n",
      "3         5.0\n",
      "4         5.0\n",
      "        ...  \n",
      "1114     25.0\n",
      "1115      NaN\n",
      "1116      NaN\n",
      "1117     25.0\n",
      "1118      NaN\n",
      "Name: pointsEarned, Length: 1119, dtype: float64\n"
     ]
    }
   ],
   "source": [
    "print(receipts_df['pointsEarned'])"
   ]
  },
  {
   "cell_type": "code",
   "execution_count": 93,
   "id": "d76a1811",
   "metadata": {},
   "outputs": [],
   "source": [
    "# Filling missing values with 0.0\n",
    "receipts_df['pointsEarned'].fillna(0.0, inplace=True)"
   ]
  },
  {
   "cell_type": "code",
   "execution_count": 94,
   "id": "1eba2798",
   "metadata": {},
   "outputs": [
    {
     "name": "stdout",
     "output_type": "stream",
     "text": [
      "0       500.0\n",
      "1       150.0\n",
      "2         5.0\n",
      "3         5.0\n",
      "4         5.0\n",
      "        ...  \n",
      "1114     25.0\n",
      "1115      0.0\n",
      "1116      0.0\n",
      "1117     25.0\n",
      "1118      0.0\n",
      "Name: pointsEarned, Length: 1119, dtype: float64\n"
     ]
    }
   ],
   "source": [
    "print(receipts_df['pointsEarned'])"
   ]
  },
  {
   "cell_type": "code",
   "execution_count": 95,
   "id": "579b704b",
   "metadata": {},
   "outputs": [
    {
     "name": "stdout",
     "output_type": "stream",
     "text": [
      "Number of missing values in 'pointsEarned': 0\n"
     ]
    }
   ],
   "source": [
    "#Cross-verifying the number of missing values in the column to ensure the missing values are handled successfully \n",
    "missing_val_cntt_ = receipts_df['pointsEarned'].isnull().sum()\n",
    "print(\"Number of missing values in 'pointsEarned':\", missing_val_cntt_)"
   ]
  },
  {
   "cell_type": "markdown",
   "id": "b6f0c3c1",
   "metadata": {},
   "source": [
    "Converting the values in the 'purchaseDate' column from the given format to a usable datetime format."
   ]
  },
  {
   "cell_type": "code",
   "execution_count": 100,
   "id": "b5258bd0",
   "metadata": {},
   "outputs": [
    {
     "name": "stdout",
     "output_type": "stream",
     "text": [
      "0       {'$date': 1609632000000}\n",
      "1       {'$date': 1609601083000}\n",
      "2       {'$date': 1609632000000}\n",
      "3       {'$date': 1609632000000}\n",
      "4       {'$date': 1609601106000}\n",
      "                  ...           \n",
      "1114    {'$date': 1597622400000}\n",
      "1115                         NaN\n",
      "1116                         NaN\n",
      "1117    {'$date': 1597622400000}\n",
      "1118                         NaN\n",
      "Name: purchaseDate, Length: 1119, dtype: object\n"
     ]
    }
   ],
   "source": [
    "print(receipts_df['purchaseDate'])"
   ]
  },
  {
   "cell_type": "code",
   "execution_count": 101,
   "id": "df9e02ab",
   "metadata": {},
   "outputs": [],
   "source": [
    "# Defining a custom function to extract the timestamp from the nested dictionary\n",
    "def extract_timestamp(val):\n",
    "    if pd.notna(val):\n",
    "        return val['$date']\n",
    "    else:\n",
    "        return val\n",
    "\n",
    "# Converting the values in 'purchaseDate' to a datetime format using the custom function\n",
    "receipts_df['purchaseDate'] = receipts_df['purchaseDate'].apply(extract_timestamp)\n",
    "receipts_df['purchaseDate'] = pd.to_datetime(receipts_df['purchaseDate'], unit='ms')"
   ]
  },
  {
   "cell_type": "markdown",
   "id": "1aadaa40",
   "metadata": {},
   "source": [
    "Handling the 448 missing values in the 'purchaseDate' column."
   ]
  },
  {
   "cell_type": "code",
   "execution_count": 102,
   "id": "38fb50ea",
   "metadata": {},
   "outputs": [],
   "source": [
    "# Imputing missing values with 'Unknown'\n",
    "receipts_df['purchaseDate'].fillna('Unknown', inplace=True)"
   ]
  },
  {
   "cell_type": "code",
   "execution_count": 103,
   "id": "4e7633d0",
   "metadata": {},
   "outputs": [
    {
     "name": "stdout",
     "output_type": "stream",
     "text": [
      "0       2021-01-03 00:00:00\n",
      "1       2021-01-02 15:24:43\n",
      "2       2021-01-03 00:00:00\n",
      "3       2021-01-03 00:00:00\n",
      "4       2021-01-02 15:25:06\n",
      "               ...         \n",
      "1114    2020-08-17 00:00:00\n",
      "1115                Unknown\n",
      "1116                Unknown\n",
      "1117    2020-08-17 00:00:00\n",
      "1118                Unknown\n",
      "Name: purchaseDate, Length: 1119, dtype: object\n"
     ]
    }
   ],
   "source": [
    "print(receipts_df['purchaseDate'])"
   ]
  },
  {
   "cell_type": "code",
   "execution_count": 104,
   "id": "22c1c195",
   "metadata": {},
   "outputs": [
    {
     "name": "stdout",
     "output_type": "stream",
     "text": [
      "Number of missing values in 'purchaseDate': 0\n"
     ]
    }
   ],
   "source": [
    "#Cross-verifying the number of missing values in the column to ensure the missing values are handled successfully \n",
    "missing_vals_count = receipts_df['purchaseDate'].isnull().sum()\n",
    "print(\"Number of missing values in 'purchaseDate':\", missing_vals_count)"
   ]
  },
  {
   "cell_type": "markdown",
   "id": "0e0a552d",
   "metadata": {},
   "source": [
    "Handling the 484 missing values in the 'purchaseItemCount' column."
   ]
  },
  {
   "cell_type": "code",
   "execution_count": 106,
   "id": "ab119582",
   "metadata": {},
   "outputs": [
    {
     "name": "stdout",
     "output_type": "stream",
     "text": [
      "0       5.0\n",
      "1       2.0\n",
      "2       1.0\n",
      "3       4.0\n",
      "4       2.0\n",
      "       ... \n",
      "1114    2.0\n",
      "1115    NaN\n",
      "1116    NaN\n",
      "1117    2.0\n",
      "1118    NaN\n",
      "Name: purchasedItemCount, Length: 1119, dtype: float64\n"
     ]
    }
   ],
   "source": [
    "print(receipts_df['purchasedItemCount'])"
   ]
  },
  {
   "cell_type": "code",
   "execution_count": 107,
   "id": "0cb7c237",
   "metadata": {},
   "outputs": [],
   "source": [
    "# Filling missing values with 0.0\n",
    "receipts_df['purchasedItemCount'].fillna(0.0, inplace=True)"
   ]
  },
  {
   "cell_type": "code",
   "execution_count": 108,
   "id": "cf4e1cfa",
   "metadata": {},
   "outputs": [
    {
     "name": "stdout",
     "output_type": "stream",
     "text": [
      "0       5.0\n",
      "1       2.0\n",
      "2       1.0\n",
      "3       4.0\n",
      "4       2.0\n",
      "       ... \n",
      "1114    2.0\n",
      "1115    0.0\n",
      "1116    0.0\n",
      "1117    2.0\n",
      "1118    0.0\n",
      "Name: purchasedItemCount, Length: 1119, dtype: float64\n"
     ]
    }
   ],
   "source": [
    "print(receipts_df['purchasedItemCount'])"
   ]
  },
  {
   "cell_type": "code",
   "execution_count": 109,
   "id": "1d9dbbec",
   "metadata": {},
   "outputs": [
    {
     "name": "stdout",
     "output_type": "stream",
     "text": [
      "Number of missing values in 'purchasedItemCount': 0\n"
     ]
    }
   ],
   "source": [
    "#Cross-verifying the number of missing values in the column to ensure the missing values are handled successfully \n",
    "missing_val_count__ = receipts_df['purchasedItemCount'].isnull().sum()\n",
    "print(\"Number of missing values in 'purchasedItemCount':\", missing_val_count__)"
   ]
  },
  {
   "cell_type": "markdown",
   "id": "ce507a6e",
   "metadata": {},
   "source": [
    "Handling the 440 missing values in the 'rewardsReceiptItemList' column."
   ]
  },
  {
   "cell_type": "code",
   "execution_count": 110,
   "id": "362e0a74",
   "metadata": {},
   "outputs": [
    {
     "name": "stdout",
     "output_type": "stream",
     "text": [
      "0       [{'barcode': '4011', 'description': 'ITEM NOT ...\n",
      "1       [{'barcode': '4011', 'description': 'ITEM NOT ...\n",
      "2       [{'needsFetchReview': False, 'partnerItemId': ...\n",
      "3       [{'barcode': '4011', 'description': 'ITEM NOT ...\n",
      "4       [{'barcode': '4011', 'description': 'ITEM NOT ...\n",
      "                              ...                        \n",
      "1114    [{'barcode': 'B076FJ92M4', 'description': 'mue...\n",
      "1115                                                  NaN\n",
      "1116                                                  NaN\n",
      "1117    [{'barcode': 'B076FJ92M4', 'description': 'mue...\n",
      "1118                                                  NaN\n",
      "Name: rewardsReceiptItemList, Length: 1119, dtype: object\n"
     ]
    }
   ],
   "source": [
    "print(receipts_df['rewardsReceiptItemList'])"
   ]
  },
  {
   "cell_type": "code",
   "execution_count": 115,
   "id": "93639e0b",
   "metadata": {},
   "outputs": [],
   "source": [
    "# Defining a custom function to handle NaN values in the 'rewardsReceiptItemList' column\n",
    "def fill_nan_with_empty_list(val):\n",
    "    if isinstance(val, list):\n",
    "        return val\n",
    "    else:\n",
    "        return []\n",
    "\n",
    "# Applying the custom function to fill NaN values in the 'rewardsReceiptItemList' column\n",
    "receipts_df['rewardsReceiptItemList'] = receipts_df['rewardsReceiptItemList'].apply(fill_nan_with_empty_list)"
   ]
  },
  {
   "cell_type": "code",
   "execution_count": 116,
   "id": "10319942",
   "metadata": {},
   "outputs": [
    {
     "name": "stdout",
     "output_type": "stream",
     "text": [
      "0       [{'barcode': '4011', 'description': 'ITEM NOT ...\n",
      "1       [{'barcode': '4011', 'description': 'ITEM NOT ...\n",
      "2       [{'needsFetchReview': False, 'partnerItemId': ...\n",
      "3       [{'barcode': '4011', 'description': 'ITEM NOT ...\n",
      "4       [{'barcode': '4011', 'description': 'ITEM NOT ...\n",
      "                              ...                        \n",
      "1114    [{'barcode': 'B076FJ92M4', 'description': 'mue...\n",
      "1115                                                   []\n",
      "1116                                                   []\n",
      "1117    [{'barcode': 'B076FJ92M4', 'description': 'mue...\n",
      "1118                                                   []\n",
      "Name: rewardsReceiptItemList, Length: 1119, dtype: object\n"
     ]
    }
   ],
   "source": [
    "print(receipts_df['rewardsReceiptItemList'])"
   ]
  },
  {
   "cell_type": "code",
   "execution_count": 117,
   "id": "6e1c815d",
   "metadata": {},
   "outputs": [
    {
     "name": "stdout",
     "output_type": "stream",
     "text": [
      "Number of missing values in 'rewardsReceiptItemList': 0\n"
     ]
    }
   ],
   "source": [
    "#Cross-verifying the number of missing values in the column to ensure the missing values are handled successfully \n",
    "missing_value_count__ = receipts_df['rewardsReceiptItemList'].isnull().sum()\n",
    "print(\"Number of missing values in 'rewardsReceiptItemList':\", missing_value_count__)"
   ]
  },
  {
   "cell_type": "markdown",
   "id": "fd5e3655",
   "metadata": {},
   "source": [
    "Handling the 435 missing values in the 'totalSpent' column."
   ]
  },
  {
   "cell_type": "code",
   "execution_count": 120,
   "id": "01ebadcc",
   "metadata": {},
   "outputs": [
    {
     "name": "stdout",
     "output_type": "stream",
     "text": [
      "0       26.00\n",
      "1       11.00\n",
      "2       10.00\n",
      "3       28.00\n",
      "4        1.00\n",
      "        ...  \n",
      "1114    34.96\n",
      "1115      NaN\n",
      "1116      NaN\n",
      "1117    34.96\n",
      "1118      NaN\n",
      "Name: totalSpent, Length: 1119, dtype: float64\n"
     ]
    }
   ],
   "source": [
    "print(receipts_df['totalSpent'])"
   ]
  },
  {
   "cell_type": "code",
   "execution_count": 121,
   "id": "f6695c7c",
   "metadata": {},
   "outputs": [],
   "source": [
    "# Filling missing values with 0.0\n",
    "receipts_df['totalSpent'].fillna(0.0, inplace=True)"
   ]
  },
  {
   "cell_type": "code",
   "execution_count": 122,
   "id": "7b861d3a",
   "metadata": {},
   "outputs": [
    {
     "name": "stdout",
     "output_type": "stream",
     "text": [
      "0       26.00\n",
      "1       11.00\n",
      "2       10.00\n",
      "3       28.00\n",
      "4        1.00\n",
      "        ...  \n",
      "1114    34.96\n",
      "1115     0.00\n",
      "1116     0.00\n",
      "1117    34.96\n",
      "1118     0.00\n",
      "Name: totalSpent, Length: 1119, dtype: float64\n"
     ]
    }
   ],
   "source": [
    "print(receipts_df['totalSpent'])"
   ]
  },
  {
   "cell_type": "code",
   "execution_count": 123,
   "id": "43d31fa4",
   "metadata": {},
   "outputs": [
    {
     "name": "stdout",
     "output_type": "stream",
     "text": [
      "Number of missing values in 'totalSpent': 0\n"
     ]
    }
   ],
   "source": [
    "#Cross-verifying the number of missing values in the column to ensure the missing values are handled successfully \n",
    "_missing_val_count__ = receipts_df['totalSpent'].isnull().sum()\n",
    "print(\"Number of missing values in 'totalSpent':\", _missing_val_count__)"
   ]
  },
  {
   "cell_type": "markdown",
   "id": "feed19b6",
   "metadata": {},
   "source": [
    "Changing the values in the 'createDate', 'dateScanned', 'modifyDate' columns"
   ]
  },
  {
   "cell_type": "code",
   "execution_count": 129,
   "id": "5605a7e2",
   "metadata": {},
   "outputs": [],
   "source": [
    "# Defining a custom function to extract the timestamp from the nested dictionary in the 'createDate' column\n",
    "def extract_timestamp(val):\n",
    "    if pd.notna(val):\n",
    "        return val['$date']\n",
    "    else:\n",
    "        return val\n",
    "\n",
    "# Converting the values in 'createDate' to a datetime format using the custom function\n",
    "receipts_df['createDate'] = receipts_df['createDate'].apply(extract_timestamp)\n",
    "receipts_df['createDate'] = pd.to_datetime(receipts_df['createDate'], unit='ms')"
   ]
  },
  {
   "cell_type": "code",
   "execution_count": 131,
   "id": "b939d698",
   "metadata": {},
   "outputs": [],
   "source": [
    "# Defining a custom function to extract the timestamp from the nested dictionary in the 'dateScanned' column\n",
    "def extract_timestamp(val):\n",
    "    if pd.notna(val):\n",
    "        return val['$date']\n",
    "    else:\n",
    "        return val\n",
    "\n",
    "# Converting the values in 'dateScanned' to a datetime format using the custom function\n",
    "receipts_df['dateScanned'] = receipts_df['dateScanned'].apply(extract_timestamp)\n",
    "receipts_df['dateScanned'] = pd.to_datetime(receipts_df['dateScanned'], unit='ms')"
   ]
  },
  {
   "cell_type": "code",
   "execution_count": 132,
   "id": "e212fad3",
   "metadata": {},
   "outputs": [],
   "source": [
    "# Defining a custom function to extract the timestamp from the nested dictionary in the 'modifyDate' column\n",
    "def extract_timestamp(val):\n",
    "    if pd.notna(val):\n",
    "        return val['$date']\n",
    "    else:\n",
    "        return val\n",
    "\n",
    "# Converting the values in 'modifyDate' to a datetime format using the custom function\n",
    "receipts_df['modifyDate'] = receipts_df['modifyDate'].apply(extract_timestamp)\n",
    "receipts_df['modifyDate'] = pd.to_datetime(receipts_df['modifyDate'], unit='ms')"
   ]
  },
  {
   "cell_type": "code",
   "execution_count": 133,
   "id": "2e805a01",
   "metadata": {},
   "outputs": [
    {
     "name": "stdout",
     "output_type": "stream",
     "text": [
      "                  createDate             dateScanned              modifyDate\n",
      "0    2021-01-03 15:25:31.000 2021-01-03 15:25:31.000 2021-01-03 15:25:36.000\n",
      "1    2021-01-03 15:24:43.000 2021-01-03 15:24:43.000 2021-01-03 15:24:48.000\n",
      "2    2021-01-03 15:25:37.000 2021-01-03 15:25:37.000 2021-01-03 15:25:42.000\n",
      "3    2021-01-03 15:25:34.000 2021-01-03 15:25:34.000 2021-01-03 15:25:39.000\n",
      "4    2021-01-03 15:25:06.000 2021-01-03 15:25:06.000 2021-01-03 15:25:11.000\n",
      "...                      ...                     ...                     ...\n",
      "1114 2021-03-01 10:22:27.000 2021-03-01 10:22:27.000 2021-03-01 10:22:28.000\n",
      "1115 2021-03-01 15:42:41.873 2021-03-01 15:42:41.873 2021-03-01 15:42:41.873\n",
      "1116 2021-03-01 14:07:37.664 2021-03-01 14:07:37.664 2021-03-01 14:07:37.664\n",
      "1117 2021-03-01 13:07:28.000 2021-03-01 13:07:28.000 2021-03-01 13:07:29.000\n",
      "1118 2021-03-01 02:22:34.962 2021-03-01 02:22:34.962 2021-03-01 02:22:34.962\n",
      "\n",
      "[1119 rows x 3 columns]\n"
     ]
    }
   ],
   "source": [
    "print(receipts_df[['createDate', 'dateScanned', 'modifyDate']])"
   ]
  },
  {
   "cell_type": "markdown",
   "id": "9e3eb460",
   "metadata": {},
   "source": [
    "Extracting the time stamps from the nested dictionary in the '_id' column and storing it as strings"
   ]
  },
  {
   "cell_type": "code",
   "execution_count": 135,
   "id": "28911080",
   "metadata": {},
   "outputs": [],
   "source": [
    "# Defining a custom function to extract the timestamp from the nested dictionary\n",
    "def extract_timestamp(val):\n",
    "    if pd.notna(val):\n",
    "        return val['$oid']\n",
    "    else:\n",
    "        return val\n",
    "\n",
    "# Storing the extracted time stamps as strings in the _id column\n",
    "receipts_df['_id'] = receipts_df['_id'].apply(extract_timestamp)"
   ]
  },
  {
   "cell_type": "code",
   "execution_count": 136,
   "id": "55cbff2c",
   "metadata": {},
   "outputs": [
    {
     "name": "stdout",
     "output_type": "stream",
     "text": [
      "0       5ff1e1eb0a720f0523000575\n",
      "1       5ff1e1bb0a720f052300056b\n",
      "2       5ff1e1f10a720f052300057a\n",
      "3       5ff1e1ee0a7214ada100056f\n",
      "4       5ff1e1d20a7214ada1000561\n",
      "                  ...           \n",
      "1114    603cc0630a720fde100003e6\n",
      "1115    603d0b710a720fde1000042a\n",
      "1116    603cf5290a720fde10000413\n",
      "1117    603ce7100a7217c72c000405\n",
      "1118    603c4fea0a7217c72c000389\n",
      "Name: _id, Length: 1119, dtype: object\n"
     ]
    }
   ],
   "source": [
    "print(receipts_df['_id'])"
   ]
  },
  {
   "cell_type": "markdown",
   "id": "9f772ac2",
   "metadata": {},
   "source": [
    "Cleaning the 'rewardsReceiptsItemList'column in the receipts_df dataframe"
   ]
  },
  {
   "cell_type": "code",
   "execution_count": 195,
   "id": "aec7ca8c",
   "metadata": {},
   "outputs": [],
   "source": [
    "# Defining a custom function to extract the relevant information from the dictionaries\n",
    "def extract_rewards_info(item_list):\n",
    "    if isinstance(item_list, list):\n",
    "        # If the 'item_list' is a list of dictionaries, extract the desired information\n",
    "        barcode_list = [item.get('barcode', None) for item in item_list]\n",
    "        description_list = [item.get('description', None) for item in item_list]\n",
    "        return barcode_list, description_list\n",
    "    else:\n",
    "        # If the 'item_list' is not in the expected format, return None for both lists\n",
    "        return None, None\n",
    "\n",
    "# Applying the custom function to the 'rewardsReceiptItemList' column and create new columns for the extracted data\n",
    "receipts_df[['barcode_list', 'description_list']] = receipts_df['rewardsReceiptItemList'].apply(extract_rewards_info).apply(pd.Series)\n",
    "\n",
    "# Dropping the original 'rewardsReceiptItemList' column if necessary\n",
    "receipts_df.drop(columns=['rewardsReceiptItemList'], inplace=True)"
   ]
  },
  {
   "cell_type": "code",
   "execution_count": 206,
   "id": "399fd52a",
   "metadata": {},
   "outputs": [
    {
     "data": {
      "text/html": [
       "<div>\n",
       "<style scoped>\n",
       "    .dataframe tbody tr th:only-of-type {\n",
       "        vertical-align: middle;\n",
       "    }\n",
       "\n",
       "    .dataframe tbody tr th {\n",
       "        vertical-align: top;\n",
       "    }\n",
       "\n",
       "    .dataframe thead th {\n",
       "        text-align: right;\n",
       "    }\n",
       "</style>\n",
       "<table border=\"1\" class=\"dataframe\">\n",
       "  <thead>\n",
       "    <tr style=\"text-align: right;\">\n",
       "      <th></th>\n",
       "      <th>_id</th>\n",
       "      <th>bonusPointsEarned</th>\n",
       "      <th>bonusPointsEarnedReason</th>\n",
       "      <th>createDate</th>\n",
       "      <th>dateScanned</th>\n",
       "      <th>finishedDate</th>\n",
       "      <th>modifyDate</th>\n",
       "      <th>pointsAwardedDate</th>\n",
       "      <th>pointsEarned</th>\n",
       "      <th>purchaseDate</th>\n",
       "      <th>purchasedItemCount</th>\n",
       "      <th>rewardsReceiptStatus</th>\n",
       "      <th>totalSpent</th>\n",
       "      <th>userId</th>\n",
       "      <th>barcode_list</th>\n",
       "      <th>description_list</th>\n",
       "    </tr>\n",
       "  </thead>\n",
       "  <tbody>\n",
       "    <tr>\n",
       "      <th>0</th>\n",
       "      <td>5ff1e1eb0a720f0523000575</td>\n",
       "      <td>500.0</td>\n",
       "      <td>Receipt number 2 completed, bonus point schedu...</td>\n",
       "      <td>2021-01-03 15:25:31.000</td>\n",
       "      <td>2021-01-03 15:25:31.000</td>\n",
       "      <td>2021-01-03 15:25:31</td>\n",
       "      <td>2021-01-03 15:25:36.000</td>\n",
       "      <td>2021-01-03 15:25:31</td>\n",
       "      <td>500.0</td>\n",
       "      <td>2021-01-03 00:00:00</td>\n",
       "      <td>5.0</td>\n",
       "      <td>FINISHED</td>\n",
       "      <td>26.00</td>\n",
       "      <td>5ff1e1eacfcf6c399c274ae6</td>\n",
       "      <td>[4011]</td>\n",
       "      <td>[ITEM NOT FOUND]</td>\n",
       "    </tr>\n",
       "    <tr>\n",
       "      <th>1</th>\n",
       "      <td>5ff1e1bb0a720f052300056b</td>\n",
       "      <td>150.0</td>\n",
       "      <td>Receipt number 5 completed, bonus point schedu...</td>\n",
       "      <td>2021-01-03 15:24:43.000</td>\n",
       "      <td>2021-01-03 15:24:43.000</td>\n",
       "      <td>2021-01-03 15:24:43</td>\n",
       "      <td>2021-01-03 15:24:48.000</td>\n",
       "      <td>2021-01-03 15:24:43</td>\n",
       "      <td>150.0</td>\n",
       "      <td>2021-01-02 15:24:43</td>\n",
       "      <td>2.0</td>\n",
       "      <td>FINISHED</td>\n",
       "      <td>11.00</td>\n",
       "      <td>5ff1e194b6a9d73a3a9f1052</td>\n",
       "      <td>[4011, 028400642255]</td>\n",
       "      <td>[ITEM NOT FOUND, DORITOS TORTILLA CHIP SPICY S...</td>\n",
       "    </tr>\n",
       "    <tr>\n",
       "      <th>2</th>\n",
       "      <td>5ff1e1f10a720f052300057a</td>\n",
       "      <td>5.0</td>\n",
       "      <td>All-receipts receipt bonus</td>\n",
       "      <td>2021-01-03 15:25:37.000</td>\n",
       "      <td>2021-01-03 15:25:37.000</td>\n",
       "      <td>Unknown</td>\n",
       "      <td>2021-01-03 15:25:42.000</td>\n",
       "      <td>Unknown</td>\n",
       "      <td>5.0</td>\n",
       "      <td>2021-01-03 00:00:00</td>\n",
       "      <td>1.0</td>\n",
       "      <td>REJECTED</td>\n",
       "      <td>10.00</td>\n",
       "      <td>5ff1e1f1cfcf6c399c274b0b</td>\n",
       "      <td>[None]</td>\n",
       "      <td>[None]</td>\n",
       "    </tr>\n",
       "    <tr>\n",
       "      <th>3</th>\n",
       "      <td>5ff1e1ee0a7214ada100056f</td>\n",
       "      <td>5.0</td>\n",
       "      <td>All-receipts receipt bonus</td>\n",
       "      <td>2021-01-03 15:25:34.000</td>\n",
       "      <td>2021-01-03 15:25:34.000</td>\n",
       "      <td>2021-01-03 15:25:34</td>\n",
       "      <td>2021-01-03 15:25:39.000</td>\n",
       "      <td>2021-01-03 15:25:34</td>\n",
       "      <td>5.0</td>\n",
       "      <td>2021-01-03 00:00:00</td>\n",
       "      <td>4.0</td>\n",
       "      <td>FINISHED</td>\n",
       "      <td>28.00</td>\n",
       "      <td>5ff1e1eacfcf6c399c274ae6</td>\n",
       "      <td>[4011]</td>\n",
       "      <td>[ITEM NOT FOUND]</td>\n",
       "    </tr>\n",
       "    <tr>\n",
       "      <th>4</th>\n",
       "      <td>5ff1e1d20a7214ada1000561</td>\n",
       "      <td>5.0</td>\n",
       "      <td>All-receipts receipt bonus</td>\n",
       "      <td>2021-01-03 15:25:06.000</td>\n",
       "      <td>2021-01-03 15:25:06.000</td>\n",
       "      <td>2021-01-03 15:25:11</td>\n",
       "      <td>2021-01-03 15:25:11.000</td>\n",
       "      <td>2021-01-03 15:25:06</td>\n",
       "      <td>5.0</td>\n",
       "      <td>2021-01-02 15:25:06</td>\n",
       "      <td>2.0</td>\n",
       "      <td>FINISHED</td>\n",
       "      <td>1.00</td>\n",
       "      <td>5ff1e194b6a9d73a3a9f1052</td>\n",
       "      <td>[4011, 1234]</td>\n",
       "      <td>[ITEM NOT FOUND, None]</td>\n",
       "    </tr>\n",
       "    <tr>\n",
       "      <th>...</th>\n",
       "      <td>...</td>\n",
       "      <td>...</td>\n",
       "      <td>...</td>\n",
       "      <td>...</td>\n",
       "      <td>...</td>\n",
       "      <td>...</td>\n",
       "      <td>...</td>\n",
       "      <td>...</td>\n",
       "      <td>...</td>\n",
       "      <td>...</td>\n",
       "      <td>...</td>\n",
       "      <td>...</td>\n",
       "      <td>...</td>\n",
       "      <td>...</td>\n",
       "      <td>...</td>\n",
       "      <td>...</td>\n",
       "    </tr>\n",
       "    <tr>\n",
       "      <th>1114</th>\n",
       "      <td>603cc0630a720fde100003e6</td>\n",
       "      <td>25.0</td>\n",
       "      <td>COMPLETE_NONPARTNER_RECEIPT</td>\n",
       "      <td>2021-03-01 10:22:27.000</td>\n",
       "      <td>2021-03-01 10:22:27.000</td>\n",
       "      <td>Unknown</td>\n",
       "      <td>2021-03-01 10:22:28.000</td>\n",
       "      <td>Unknown</td>\n",
       "      <td>25.0</td>\n",
       "      <td>2020-08-17 00:00:00</td>\n",
       "      <td>2.0</td>\n",
       "      <td>REJECTED</td>\n",
       "      <td>34.96</td>\n",
       "      <td>5fc961c3b8cfca11a077dd33</td>\n",
       "      <td>[B076FJ92M4, B07BRRLSVC]</td>\n",
       "      <td>[mueller austria hypergrind precision electric...</td>\n",
       "    </tr>\n",
       "    <tr>\n",
       "      <th>1115</th>\n",
       "      <td>603d0b710a720fde1000042a</td>\n",
       "      <td>0.0</td>\n",
       "      <td>Unknown</td>\n",
       "      <td>2021-03-01 15:42:41.873</td>\n",
       "      <td>2021-03-01 15:42:41.873</td>\n",
       "      <td>Unknown</td>\n",
       "      <td>2021-03-01 15:42:41.873</td>\n",
       "      <td>Unknown</td>\n",
       "      <td>0.0</td>\n",
       "      <td>Unknown</td>\n",
       "      <td>0.0</td>\n",
       "      <td>SUBMITTED</td>\n",
       "      <td>0.00</td>\n",
       "      <td>5fc961c3b8cfca11a077dd33</td>\n",
       "      <td>[]</td>\n",
       "      <td>[]</td>\n",
       "    </tr>\n",
       "    <tr>\n",
       "      <th>1116</th>\n",
       "      <td>603cf5290a720fde10000413</td>\n",
       "      <td>0.0</td>\n",
       "      <td>Unknown</td>\n",
       "      <td>2021-03-01 14:07:37.664</td>\n",
       "      <td>2021-03-01 14:07:37.664</td>\n",
       "      <td>Unknown</td>\n",
       "      <td>2021-03-01 14:07:37.664</td>\n",
       "      <td>Unknown</td>\n",
       "      <td>0.0</td>\n",
       "      <td>Unknown</td>\n",
       "      <td>0.0</td>\n",
       "      <td>SUBMITTED</td>\n",
       "      <td>0.00</td>\n",
       "      <td>5fc961c3b8cfca11a077dd33</td>\n",
       "      <td>[]</td>\n",
       "      <td>[]</td>\n",
       "    </tr>\n",
       "    <tr>\n",
       "      <th>1117</th>\n",
       "      <td>603ce7100a7217c72c000405</td>\n",
       "      <td>25.0</td>\n",
       "      <td>COMPLETE_NONPARTNER_RECEIPT</td>\n",
       "      <td>2021-03-01 13:07:28.000</td>\n",
       "      <td>2021-03-01 13:07:28.000</td>\n",
       "      <td>Unknown</td>\n",
       "      <td>2021-03-01 13:07:29.000</td>\n",
       "      <td>Unknown</td>\n",
       "      <td>25.0</td>\n",
       "      <td>2020-08-17 00:00:00</td>\n",
       "      <td>2.0</td>\n",
       "      <td>REJECTED</td>\n",
       "      <td>34.96</td>\n",
       "      <td>5fc961c3b8cfca11a077dd33</td>\n",
       "      <td>[B076FJ92M4, B07BRRLSVC]</td>\n",
       "      <td>[mueller austria hypergrind precision electric...</td>\n",
       "    </tr>\n",
       "    <tr>\n",
       "      <th>1118</th>\n",
       "      <td>603c4fea0a7217c72c000389</td>\n",
       "      <td>0.0</td>\n",
       "      <td>Unknown</td>\n",
       "      <td>2021-03-01 02:22:34.962</td>\n",
       "      <td>2021-03-01 02:22:34.962</td>\n",
       "      <td>Unknown</td>\n",
       "      <td>2021-03-01 02:22:34.962</td>\n",
       "      <td>Unknown</td>\n",
       "      <td>0.0</td>\n",
       "      <td>Unknown</td>\n",
       "      <td>0.0</td>\n",
       "      <td>SUBMITTED</td>\n",
       "      <td>0.00</td>\n",
       "      <td>5fc961c3b8cfca11a077dd33</td>\n",
       "      <td>[]</td>\n",
       "      <td>[]</td>\n",
       "    </tr>\n",
       "  </tbody>\n",
       "</table>\n",
       "<p>1119 rows × 16 columns</p>\n",
       "</div>"
      ],
      "text/plain": [
       "                           _id  bonusPointsEarned  \\\n",
       "0     5ff1e1eb0a720f0523000575              500.0   \n",
       "1     5ff1e1bb0a720f052300056b              150.0   \n",
       "2     5ff1e1f10a720f052300057a                5.0   \n",
       "3     5ff1e1ee0a7214ada100056f                5.0   \n",
       "4     5ff1e1d20a7214ada1000561                5.0   \n",
       "...                        ...                ...   \n",
       "1114  603cc0630a720fde100003e6               25.0   \n",
       "1115  603d0b710a720fde1000042a                0.0   \n",
       "1116  603cf5290a720fde10000413                0.0   \n",
       "1117  603ce7100a7217c72c000405               25.0   \n",
       "1118  603c4fea0a7217c72c000389                0.0   \n",
       "\n",
       "                                bonusPointsEarnedReason  \\\n",
       "0     Receipt number 2 completed, bonus point schedu...   \n",
       "1     Receipt number 5 completed, bonus point schedu...   \n",
       "2                            All-receipts receipt bonus   \n",
       "3                            All-receipts receipt bonus   \n",
       "4                            All-receipts receipt bonus   \n",
       "...                                                 ...   \n",
       "1114                        COMPLETE_NONPARTNER_RECEIPT   \n",
       "1115                                            Unknown   \n",
       "1116                                            Unknown   \n",
       "1117                        COMPLETE_NONPARTNER_RECEIPT   \n",
       "1118                                            Unknown   \n",
       "\n",
       "                  createDate             dateScanned         finishedDate  \\\n",
       "0    2021-01-03 15:25:31.000 2021-01-03 15:25:31.000  2021-01-03 15:25:31   \n",
       "1    2021-01-03 15:24:43.000 2021-01-03 15:24:43.000  2021-01-03 15:24:43   \n",
       "2    2021-01-03 15:25:37.000 2021-01-03 15:25:37.000              Unknown   \n",
       "3    2021-01-03 15:25:34.000 2021-01-03 15:25:34.000  2021-01-03 15:25:34   \n",
       "4    2021-01-03 15:25:06.000 2021-01-03 15:25:06.000  2021-01-03 15:25:11   \n",
       "...                      ...                     ...                  ...   \n",
       "1114 2021-03-01 10:22:27.000 2021-03-01 10:22:27.000              Unknown   \n",
       "1115 2021-03-01 15:42:41.873 2021-03-01 15:42:41.873              Unknown   \n",
       "1116 2021-03-01 14:07:37.664 2021-03-01 14:07:37.664              Unknown   \n",
       "1117 2021-03-01 13:07:28.000 2021-03-01 13:07:28.000              Unknown   \n",
       "1118 2021-03-01 02:22:34.962 2021-03-01 02:22:34.962              Unknown   \n",
       "\n",
       "                  modifyDate    pointsAwardedDate  pointsEarned  \\\n",
       "0    2021-01-03 15:25:36.000  2021-01-03 15:25:31         500.0   \n",
       "1    2021-01-03 15:24:48.000  2021-01-03 15:24:43         150.0   \n",
       "2    2021-01-03 15:25:42.000              Unknown           5.0   \n",
       "3    2021-01-03 15:25:39.000  2021-01-03 15:25:34           5.0   \n",
       "4    2021-01-03 15:25:11.000  2021-01-03 15:25:06           5.0   \n",
       "...                      ...                  ...           ...   \n",
       "1114 2021-03-01 10:22:28.000              Unknown          25.0   \n",
       "1115 2021-03-01 15:42:41.873              Unknown           0.0   \n",
       "1116 2021-03-01 14:07:37.664              Unknown           0.0   \n",
       "1117 2021-03-01 13:07:29.000              Unknown          25.0   \n",
       "1118 2021-03-01 02:22:34.962              Unknown           0.0   \n",
       "\n",
       "             purchaseDate  purchasedItemCount rewardsReceiptStatus  \\\n",
       "0     2021-01-03 00:00:00                 5.0             FINISHED   \n",
       "1     2021-01-02 15:24:43                 2.0             FINISHED   \n",
       "2     2021-01-03 00:00:00                 1.0             REJECTED   \n",
       "3     2021-01-03 00:00:00                 4.0             FINISHED   \n",
       "4     2021-01-02 15:25:06                 2.0             FINISHED   \n",
       "...                   ...                 ...                  ...   \n",
       "1114  2020-08-17 00:00:00                 2.0             REJECTED   \n",
       "1115              Unknown                 0.0            SUBMITTED   \n",
       "1116              Unknown                 0.0            SUBMITTED   \n",
       "1117  2020-08-17 00:00:00                 2.0             REJECTED   \n",
       "1118              Unknown                 0.0            SUBMITTED   \n",
       "\n",
       "      totalSpent                    userId              barcode_list  \\\n",
       "0          26.00  5ff1e1eacfcf6c399c274ae6                    [4011]   \n",
       "1          11.00  5ff1e194b6a9d73a3a9f1052      [4011, 028400642255]   \n",
       "2          10.00  5ff1e1f1cfcf6c399c274b0b                    [None]   \n",
       "3          28.00  5ff1e1eacfcf6c399c274ae6                    [4011]   \n",
       "4           1.00  5ff1e194b6a9d73a3a9f1052              [4011, 1234]   \n",
       "...          ...                       ...                       ...   \n",
       "1114       34.96  5fc961c3b8cfca11a077dd33  [B076FJ92M4, B07BRRLSVC]   \n",
       "1115        0.00  5fc961c3b8cfca11a077dd33                        []   \n",
       "1116        0.00  5fc961c3b8cfca11a077dd33                        []   \n",
       "1117       34.96  5fc961c3b8cfca11a077dd33  [B076FJ92M4, B07BRRLSVC]   \n",
       "1118        0.00  5fc961c3b8cfca11a077dd33                        []   \n",
       "\n",
       "                                       description_list  \n",
       "0                                      [ITEM NOT FOUND]  \n",
       "1     [ITEM NOT FOUND, DORITOS TORTILLA CHIP SPICY S...  \n",
       "2                                                [None]  \n",
       "3                                      [ITEM NOT FOUND]  \n",
       "4                                [ITEM NOT FOUND, None]  \n",
       "...                                                 ...  \n",
       "1114  [mueller austria hypergrind precision electric...  \n",
       "1115                                                 []  \n",
       "1116                                                 []  \n",
       "1117  [mueller austria hypergrind precision electric...  \n",
       "1118                                                 []  \n",
       "\n",
       "[1119 rows x 16 columns]"
      ]
     },
     "execution_count": 206,
     "metadata": {},
     "output_type": "execute_result"
    }
   ],
   "source": [
    "receipts_df"
   ]
  },
  {
   "cell_type": "markdown",
   "id": "0c71578a",
   "metadata": {},
   "source": [
    "Cleaning the barcode_list and description_list columns in the receipts_df dataframe"
   ]
  },
  {
   "cell_type": "code",
   "execution_count": 222,
   "id": "01e7c46d",
   "metadata": {},
   "outputs": [],
   "source": [
    "# Creating a copy of the DataFrame to avoid modifying the original data\n",
    "receipts_df_copy = receipts_df.copy()\n",
    "\n",
    "# Looping through each row in the DataFrame\n",
    "for index, row in receipts_df_copy.iterrows():\n",
    "    barcode_list = row['barcode_list']\n",
    "    if barcode_list:  # Checking if the barcode_list is not empty\n",
    "        # Converting each element in the barcode_list to integers if they are digits, otherwise keep them as they are\n",
    "        barcode_list = [int(barcode) if isinstance(barcode, str) and barcode.isdigit() else barcode for barcode in barcode_list]\n",
    "        receipts_df_copy.at[index, 'barcode_list'] = barcode_list"
   ]
  },
  {
   "cell_type": "code",
   "execution_count": 233,
   "id": "b448de4c",
   "metadata": {},
   "outputs": [],
   "source": [
    "# Exploding the 'barcode_list' column so that each element in the lists gets its own row\n",
    "receipts_df_copy_exploded = receipts_df_copy.explode('barcode_list', ignore_index=True)\n",
    "\n",
    "# Dropping the rows with empty strings in the 'barcode_list'\n",
    "receipts_df_copy_exploded = receipts_df_copy_exploded[receipts_df_copy_exploded['barcode_list'] != '']\n",
    "\n",
    "# Resetting the index of the DataFrame\n",
    "receipts_df_copy_exploded.reset_index(drop=True, inplace=True)"
   ]
  },
  {
   "cell_type": "code",
   "execution_count": 228,
   "id": "df40f892",
   "metadata": {},
   "outputs": [
    {
     "name": "stdout",
     "output_type": "stream",
     "text": [
      "0              4011\n",
      "1              4011\n",
      "2       28400642255\n",
      "3               NaN\n",
      "4              4011\n",
      "           ...     \n",
      "3611            NaN\n",
      "3612            NaN\n",
      "3613     B076FJ92M4\n",
      "3614     B07BRRLSVC\n",
      "3615            NaN\n",
      "Name: barcode_list, Length: 3616, dtype: object\n"
     ]
    }
   ],
   "source": [
    "print(receipts_df_copy_exploded['barcode_list'])"
   ]
  },
  {
   "cell_type": "code",
   "execution_count": 229,
   "id": "d1e000d5",
   "metadata": {},
   "outputs": [],
   "source": [
    "# Filling NaN values in the 'barcode_list' column with 0\n",
    "receipts_df_copy_exploded['barcode_list'].fillna(0, inplace=True)"
   ]
  },
  {
   "cell_type": "code",
   "execution_count": 230,
   "id": "d81975e6",
   "metadata": {},
   "outputs": [
    {
     "data": {
      "text/plain": [
       "0              4011\n",
       "1              4011\n",
       "2       28400642255\n",
       "3                 0\n",
       "4              4011\n",
       "           ...     \n",
       "3611              0\n",
       "3612              0\n",
       "3613     B076FJ92M4\n",
       "3614     B07BRRLSVC\n",
       "3615              0\n",
       "Name: barcode_list, Length: 3616, dtype: object"
      ]
     },
     "execution_count": 230,
     "metadata": {},
     "output_type": "execute_result"
    }
   ],
   "source": [
    "receipts_df_copy_exploded['barcode_list']"
   ]
  },
  {
   "cell_type": "code",
   "execution_count": 234,
   "id": "5fa42dde",
   "metadata": {},
   "outputs": [],
   "source": [
    "# Exploding the 'description_list' column so that each element in the lists gets its own row\n",
    "receipts_df_copy_exploded = receipts_df_copy_exploded.explode('description_list', ignore_index=True)\n",
    "\n",
    "# Dropping the rows with empty strings in the 'description_list'\n",
    "receipts_df_copy_exploded = receipts_df_copy_exploded[receipts_df_copy_exploded['description_list'] != '']\n",
    "\n",
    "# Resetting the index of the DataFrame\n",
    "receipts_df_copy_exploded.reset_index(drop=True, inplace=True)"
   ]
  },
  {
   "cell_type": "code",
   "execution_count": 235,
   "id": "478d7fd0",
   "metadata": {},
   "outputs": [
    {
     "name": "stdout",
     "output_type": "stream",
     "text": [
      "0                                            ITEM NOT FOUND\n",
      "1                                            ITEM NOT FOUND\n",
      "2         DORITOS TORTILLA CHIP SPICY SWEET CHILI REDUCE...\n",
      "3                                            ITEM NOT FOUND\n",
      "4         DORITOS TORTILLA CHIP SPICY SWEET CHILI REDUCE...\n",
      "                                ...                        \n",
      "378870    mueller austria hypergrind precision electric ...\n",
      "378871    thindust summer face mask - sun protection nec...\n",
      "378872    mueller austria hypergrind precision electric ...\n",
      "378873    thindust summer face mask - sun protection nec...\n",
      "378874                                                  NaN\n",
      "Name: description_list, Length: 378875, dtype: object\n"
     ]
    }
   ],
   "source": [
    "print(receipts_df_copy_exploded['description_list'])"
   ]
  },
  {
   "cell_type": "code",
   "execution_count": 239,
   "id": "84d6f5ed",
   "metadata": {},
   "outputs": [],
   "source": [
    "# Filling NaN values in the 'description_list' column with 'unknown'\n",
    "receipts_df_copy_exploded['description_list'].fillna('unknown', inplace=True)"
   ]
  },
  {
   "cell_type": "code",
   "execution_count": 237,
   "id": "5345f2eb",
   "metadata": {},
   "outputs": [
    {
     "name": "stdout",
     "output_type": "stream",
     "text": [
      "0                                            ITEM NOT FOUND\n",
      "1                                            ITEM NOT FOUND\n",
      "2         DORITOS TORTILLA CHIP SPICY SWEET CHILI REDUCE...\n",
      "3                                            ITEM NOT FOUND\n",
      "4         DORITOS TORTILLA CHIP SPICY SWEET CHILI REDUCE...\n",
      "                                ...                        \n",
      "378870    mueller austria hypergrind precision electric ...\n",
      "378871    thindust summer face mask - sun protection nec...\n",
      "378872    mueller austria hypergrind precision electric ...\n",
      "378873    thindust summer face mask - sun protection nec...\n",
      "378874                                                    0\n",
      "Name: description_list, Length: 378875, dtype: object\n"
     ]
    }
   ],
   "source": [
    "print(receipts_df_copy_exploded['description_list'])"
   ]
  },
  {
   "cell_type": "code",
   "execution_count": 242,
   "id": "acb37793",
   "metadata": {},
   "outputs": [],
   "source": [
    "# Replacing 0 values with 'unknown'\n",
    "receipts_df_copy_exploded['description_list'].replace(0, 'Unknown', inplace=True)"
   ]
  },
  {
   "cell_type": "code",
   "execution_count": 243,
   "id": "1f2cae0a",
   "metadata": {},
   "outputs": [
    {
     "name": "stdout",
     "output_type": "stream",
     "text": [
      "0                                            ITEM NOT FOUND\n",
      "1                                            ITEM NOT FOUND\n",
      "2         DORITOS TORTILLA CHIP SPICY SWEET CHILI REDUCE...\n",
      "3                                            ITEM NOT FOUND\n",
      "4         DORITOS TORTILLA CHIP SPICY SWEET CHILI REDUCE...\n",
      "                                ...                        \n",
      "378870    mueller austria hypergrind precision electric ...\n",
      "378871    thindust summer face mask - sun protection nec...\n",
      "378872    mueller austria hypergrind precision electric ...\n",
      "378873    thindust summer face mask - sun protection nec...\n",
      "378874                                              unknown\n",
      "Name: description_list, Length: 378875, dtype: object\n"
     ]
    }
   ],
   "source": [
    "print(receipts_df_copy_exploded['description_list'])"
   ]
  },
  {
   "cell_type": "code",
   "execution_count": 254,
   "id": "f0b8672b",
   "metadata": {},
   "outputs": [],
   "source": [
    "# Assuming 'receipts_df' is your DataFrame\n",
    "receipts_df_copy = receipts_df.copy()\n",
    "\n",
    "# Exploding the 'barcode_list' and 'description_list' columns\n",
    "receipts_df_copy_exploded = receipts_df_copy.explode('barcode_list', ignore_index=True)\n",
    "receipts_df_copy_exploded['description_list'] = receipts_df_copy['description_list'].explode(ignore_index=True)\n",
    "\n",
    "# Dropping rows with empty values in 'barcode_list' and 'description_list'\n",
    "receipts_df_copy_exploded = receipts_df_copy_exploded.dropna(subset=['barcode_list', 'description_list'])\n",
    "\n",
    "# Resetting the index of the DataFrame\n",
    "receipts_df_copy_exploded.reset_index(drop=True, inplace=True)"
   ]
  },
  {
   "cell_type": "code",
   "execution_count": 271,
   "id": "40e7c431",
   "metadata": {},
   "outputs": [
    {
     "data": {
      "text/html": [
       "<div>\n",
       "<style scoped>\n",
       "    .dataframe tbody tr th:only-of-type {\n",
       "        vertical-align: middle;\n",
       "    }\n",
       "\n",
       "    .dataframe tbody tr th {\n",
       "        vertical-align: top;\n",
       "    }\n",
       "\n",
       "    .dataframe thead th {\n",
       "        text-align: right;\n",
       "    }\n",
       "</style>\n",
       "<table border=\"1\" class=\"dataframe\">\n",
       "  <thead>\n",
       "    <tr style=\"text-align: right;\">\n",
       "      <th></th>\n",
       "      <th>_id</th>\n",
       "      <th>bonusPointsEarned</th>\n",
       "      <th>bonusPointsEarnedReason</th>\n",
       "      <th>createDate</th>\n",
       "      <th>dateScanned</th>\n",
       "      <th>finishedDate</th>\n",
       "      <th>modifyDate</th>\n",
       "      <th>pointsAwardedDate</th>\n",
       "      <th>pointsEarned</th>\n",
       "      <th>purchaseDate</th>\n",
       "      <th>purchasedItemCount</th>\n",
       "      <th>rewardsReceiptStatus</th>\n",
       "      <th>totalSpent</th>\n",
       "      <th>userId</th>\n",
       "      <th>barcode_list</th>\n",
       "      <th>description_list</th>\n",
       "    </tr>\n",
       "  </thead>\n",
       "  <tbody>\n",
       "    <tr>\n",
       "      <th>0</th>\n",
       "      <td>5ff1e1eb0a720f0523000575</td>\n",
       "      <td>500.0</td>\n",
       "      <td>Receipt number 2 completed, bonus point schedu...</td>\n",
       "      <td>2021-01-03 15:25:31</td>\n",
       "      <td>2021-01-03 15:25:31</td>\n",
       "      <td>2021-01-03 15:25:31</td>\n",
       "      <td>2021-01-03 15:25:36</td>\n",
       "      <td>2021-01-03 15:25:31</td>\n",
       "      <td>500.0</td>\n",
       "      <td>2021-01-03 00:00:00</td>\n",
       "      <td>5.0</td>\n",
       "      <td>FINISHED</td>\n",
       "      <td>26.00</td>\n",
       "      <td>5ff1e1eacfcf6c399c274ae6</td>\n",
       "      <td>4011</td>\n",
       "      <td>ITEM NOT FOUND</td>\n",
       "    </tr>\n",
       "    <tr>\n",
       "      <th>1</th>\n",
       "      <td>5ff1e1bb0a720f052300056b</td>\n",
       "      <td>150.0</td>\n",
       "      <td>Receipt number 5 completed, bonus point schedu...</td>\n",
       "      <td>2021-01-03 15:24:43</td>\n",
       "      <td>2021-01-03 15:24:43</td>\n",
       "      <td>2021-01-03 15:24:43</td>\n",
       "      <td>2021-01-03 15:24:48</td>\n",
       "      <td>2021-01-03 15:24:43</td>\n",
       "      <td>150.0</td>\n",
       "      <td>2021-01-02 15:24:43</td>\n",
       "      <td>2.0</td>\n",
       "      <td>FINISHED</td>\n",
       "      <td>11.00</td>\n",
       "      <td>5ff1e194b6a9d73a3a9f1052</td>\n",
       "      <td>4011</td>\n",
       "      <td>ITEM NOT FOUND</td>\n",
       "    </tr>\n",
       "    <tr>\n",
       "      <th>2</th>\n",
       "      <td>5ff1e1bb0a720f052300056b</td>\n",
       "      <td>150.0</td>\n",
       "      <td>Receipt number 5 completed, bonus point schedu...</td>\n",
       "      <td>2021-01-03 15:24:43</td>\n",
       "      <td>2021-01-03 15:24:43</td>\n",
       "      <td>2021-01-03 15:24:43</td>\n",
       "      <td>2021-01-03 15:24:48</td>\n",
       "      <td>2021-01-03 15:24:43</td>\n",
       "      <td>150.0</td>\n",
       "      <td>2021-01-02 15:24:43</td>\n",
       "      <td>2.0</td>\n",
       "      <td>FINISHED</td>\n",
       "      <td>11.00</td>\n",
       "      <td>5ff1e194b6a9d73a3a9f1052</td>\n",
       "      <td>28400642255</td>\n",
       "      <td>DORITOS TORTILLA CHIP SPICY SWEET CHILI REDUCE...</td>\n",
       "    </tr>\n",
       "    <tr>\n",
       "      <th>3</th>\n",
       "      <td>5ff1e1ee0a7214ada100056f</td>\n",
       "      <td>5.0</td>\n",
       "      <td>All-receipts receipt bonus</td>\n",
       "      <td>2021-01-03 15:25:34</td>\n",
       "      <td>2021-01-03 15:25:34</td>\n",
       "      <td>2021-01-03 15:25:34</td>\n",
       "      <td>2021-01-03 15:25:39</td>\n",
       "      <td>2021-01-03 15:25:34</td>\n",
       "      <td>5.0</td>\n",
       "      <td>2021-01-03 00:00:00</td>\n",
       "      <td>4.0</td>\n",
       "      <td>FINISHED</td>\n",
       "      <td>28.00</td>\n",
       "      <td>5ff1e1eacfcf6c399c274ae6</td>\n",
       "      <td>4011</td>\n",
       "      <td>ITEM NOT FOUND</td>\n",
       "    </tr>\n",
       "    <tr>\n",
       "      <th>4</th>\n",
       "      <td>5ff1e1d20a7214ada1000561</td>\n",
       "      <td>5.0</td>\n",
       "      <td>All-receipts receipt bonus</td>\n",
       "      <td>2021-01-03 15:25:06</td>\n",
       "      <td>2021-01-03 15:25:06</td>\n",
       "      <td>2021-01-03 15:25:11</td>\n",
       "      <td>2021-01-03 15:25:11</td>\n",
       "      <td>2021-01-03 15:25:06</td>\n",
       "      <td>5.0</td>\n",
       "      <td>2021-01-02 15:25:06</td>\n",
       "      <td>2.0</td>\n",
       "      <td>FINISHED</td>\n",
       "      <td>1.00</td>\n",
       "      <td>5ff1e194b6a9d73a3a9f1052</td>\n",
       "      <td>4011</td>\n",
       "      <td>ITEM NOT FOUND</td>\n",
       "    </tr>\n",
       "    <tr>\n",
       "      <th>...</th>\n",
       "      <td>...</td>\n",
       "      <td>...</td>\n",
       "      <td>...</td>\n",
       "      <td>...</td>\n",
       "      <td>...</td>\n",
       "      <td>...</td>\n",
       "      <td>...</td>\n",
       "      <td>...</td>\n",
       "      <td>...</td>\n",
       "      <td>...</td>\n",
       "      <td>...</td>\n",
       "      <td>...</td>\n",
       "      <td>...</td>\n",
       "      <td>...</td>\n",
       "      <td>...</td>\n",
       "      <td>...</td>\n",
       "    </tr>\n",
       "    <tr>\n",
       "      <th>2846</th>\n",
       "      <td>603cc2bc0a720fde100003e9</td>\n",
       "      <td>25.0</td>\n",
       "      <td>COMPLETE_NONPARTNER_RECEIPT</td>\n",
       "      <td>2021-03-01 10:32:28</td>\n",
       "      <td>2021-03-01 10:32:28</td>\n",
       "      <td>Unknown</td>\n",
       "      <td>2021-03-01 10:32:29</td>\n",
       "      <td>Unknown</td>\n",
       "      <td>25.0</td>\n",
       "      <td>2020-08-17 00:00:00</td>\n",
       "      <td>2.0</td>\n",
       "      <td>REJECTED</td>\n",
       "      <td>34.96</td>\n",
       "      <td>5fc961c3b8cfca11a077dd33</td>\n",
       "      <td>B07BRRLSVC</td>\n",
       "      <td>442 MLDITLN MTB</td>\n",
       "    </tr>\n",
       "    <tr>\n",
       "      <th>2847</th>\n",
       "      <td>603cc0630a720fde100003e6</td>\n",
       "      <td>25.0</td>\n",
       "      <td>COMPLETE_NONPARTNER_RECEIPT</td>\n",
       "      <td>2021-03-01 10:22:27</td>\n",
       "      <td>2021-03-01 10:22:27</td>\n",
       "      <td>Unknown</td>\n",
       "      <td>2021-03-01 10:22:28</td>\n",
       "      <td>Unknown</td>\n",
       "      <td>25.0</td>\n",
       "      <td>2020-08-17 00:00:00</td>\n",
       "      <td>2.0</td>\n",
       "      <td>REJECTED</td>\n",
       "      <td>34.96</td>\n",
       "      <td>5fc961c3b8cfca11a077dd33</td>\n",
       "      <td>B076FJ92M4</td>\n",
       "      <td>OSCAR MAYER LUNCH MEAT</td>\n",
       "    </tr>\n",
       "    <tr>\n",
       "      <th>2848</th>\n",
       "      <td>603cc0630a720fde100003e6</td>\n",
       "      <td>25.0</td>\n",
       "      <td>COMPLETE_NONPARTNER_RECEIPT</td>\n",
       "      <td>2021-03-01 10:22:27</td>\n",
       "      <td>2021-03-01 10:22:27</td>\n",
       "      <td>Unknown</td>\n",
       "      <td>2021-03-01 10:22:28</td>\n",
       "      <td>Unknown</td>\n",
       "      <td>25.0</td>\n",
       "      <td>2020-08-17 00:00:00</td>\n",
       "      <td>2.0</td>\n",
       "      <td>REJECTED</td>\n",
       "      <td>34.96</td>\n",
       "      <td>5fc961c3b8cfca11a077dd33</td>\n",
       "      <td>B07BRRLSVC</td>\n",
       "      <td>OSCAR MAYER Selects Rotisserie Seasoned Chicke...</td>\n",
       "    </tr>\n",
       "    <tr>\n",
       "      <th>2849</th>\n",
       "      <td>603ce7100a7217c72c000405</td>\n",
       "      <td>25.0</td>\n",
       "      <td>COMPLETE_NONPARTNER_RECEIPT</td>\n",
       "      <td>2021-03-01 13:07:28</td>\n",
       "      <td>2021-03-01 13:07:28</td>\n",
       "      <td>Unknown</td>\n",
       "      <td>2021-03-01 13:07:29</td>\n",
       "      <td>Unknown</td>\n",
       "      <td>25.0</td>\n",
       "      <td>2020-08-17 00:00:00</td>\n",
       "      <td>2.0</td>\n",
       "      <td>REJECTED</td>\n",
       "      <td>34.96</td>\n",
       "      <td>5fc961c3b8cfca11a077dd33</td>\n",
       "      <td>B076FJ92M4</td>\n",
       "      <td>463 TILLAMOOKYO</td>\n",
       "    </tr>\n",
       "    <tr>\n",
       "      <th>2850</th>\n",
       "      <td>603ce7100a7217c72c000405</td>\n",
       "      <td>25.0</td>\n",
       "      <td>COMPLETE_NONPARTNER_RECEIPT</td>\n",
       "      <td>2021-03-01 13:07:28</td>\n",
       "      <td>2021-03-01 13:07:28</td>\n",
       "      <td>Unknown</td>\n",
       "      <td>2021-03-01 13:07:29</td>\n",
       "      <td>Unknown</td>\n",
       "      <td>25.0</td>\n",
       "      <td>2020-08-17 00:00:00</td>\n",
       "      <td>2.0</td>\n",
       "      <td>REJECTED</td>\n",
       "      <td>34.96</td>\n",
       "      <td>5fc961c3b8cfca11a077dd33</td>\n",
       "      <td>B07BRRLSVC</td>\n",
       "      <td>464 TILLAMOOKYO</td>\n",
       "    </tr>\n",
       "  </tbody>\n",
       "</table>\n",
       "<p>2851 rows × 16 columns</p>\n",
       "</div>"
      ],
      "text/plain": [
       "                           _id  bonusPointsEarned  \\\n",
       "0     5ff1e1eb0a720f0523000575              500.0   \n",
       "1     5ff1e1bb0a720f052300056b              150.0   \n",
       "2     5ff1e1bb0a720f052300056b              150.0   \n",
       "3     5ff1e1ee0a7214ada100056f                5.0   \n",
       "4     5ff1e1d20a7214ada1000561                5.0   \n",
       "...                        ...                ...   \n",
       "2846  603cc2bc0a720fde100003e9               25.0   \n",
       "2847  603cc0630a720fde100003e6               25.0   \n",
       "2848  603cc0630a720fde100003e6               25.0   \n",
       "2849  603ce7100a7217c72c000405               25.0   \n",
       "2850  603ce7100a7217c72c000405               25.0   \n",
       "\n",
       "                                bonusPointsEarnedReason          createDate  \\\n",
       "0     Receipt number 2 completed, bonus point schedu... 2021-01-03 15:25:31   \n",
       "1     Receipt number 5 completed, bonus point schedu... 2021-01-03 15:24:43   \n",
       "2     Receipt number 5 completed, bonus point schedu... 2021-01-03 15:24:43   \n",
       "3                            All-receipts receipt bonus 2021-01-03 15:25:34   \n",
       "4                            All-receipts receipt bonus 2021-01-03 15:25:06   \n",
       "...                                                 ...                 ...   \n",
       "2846                        COMPLETE_NONPARTNER_RECEIPT 2021-03-01 10:32:28   \n",
       "2847                        COMPLETE_NONPARTNER_RECEIPT 2021-03-01 10:22:27   \n",
       "2848                        COMPLETE_NONPARTNER_RECEIPT 2021-03-01 10:22:27   \n",
       "2849                        COMPLETE_NONPARTNER_RECEIPT 2021-03-01 13:07:28   \n",
       "2850                        COMPLETE_NONPARTNER_RECEIPT 2021-03-01 13:07:28   \n",
       "\n",
       "             dateScanned         finishedDate          modifyDate  \\\n",
       "0    2021-01-03 15:25:31  2021-01-03 15:25:31 2021-01-03 15:25:36   \n",
       "1    2021-01-03 15:24:43  2021-01-03 15:24:43 2021-01-03 15:24:48   \n",
       "2    2021-01-03 15:24:43  2021-01-03 15:24:43 2021-01-03 15:24:48   \n",
       "3    2021-01-03 15:25:34  2021-01-03 15:25:34 2021-01-03 15:25:39   \n",
       "4    2021-01-03 15:25:06  2021-01-03 15:25:11 2021-01-03 15:25:11   \n",
       "...                  ...                  ...                 ...   \n",
       "2846 2021-03-01 10:32:28              Unknown 2021-03-01 10:32:29   \n",
       "2847 2021-03-01 10:22:27              Unknown 2021-03-01 10:22:28   \n",
       "2848 2021-03-01 10:22:27              Unknown 2021-03-01 10:22:28   \n",
       "2849 2021-03-01 13:07:28              Unknown 2021-03-01 13:07:29   \n",
       "2850 2021-03-01 13:07:28              Unknown 2021-03-01 13:07:29   \n",
       "\n",
       "        pointsAwardedDate  pointsEarned         purchaseDate  \\\n",
       "0     2021-01-03 15:25:31         500.0  2021-01-03 00:00:00   \n",
       "1     2021-01-03 15:24:43         150.0  2021-01-02 15:24:43   \n",
       "2     2021-01-03 15:24:43         150.0  2021-01-02 15:24:43   \n",
       "3     2021-01-03 15:25:34           5.0  2021-01-03 00:00:00   \n",
       "4     2021-01-03 15:25:06           5.0  2021-01-02 15:25:06   \n",
       "...                   ...           ...                  ...   \n",
       "2846              Unknown          25.0  2020-08-17 00:00:00   \n",
       "2847              Unknown          25.0  2020-08-17 00:00:00   \n",
       "2848              Unknown          25.0  2020-08-17 00:00:00   \n",
       "2849              Unknown          25.0  2020-08-17 00:00:00   \n",
       "2850              Unknown          25.0  2020-08-17 00:00:00   \n",
       "\n",
       "      purchasedItemCount rewardsReceiptStatus  totalSpent  \\\n",
       "0                    5.0             FINISHED       26.00   \n",
       "1                    2.0             FINISHED       11.00   \n",
       "2                    2.0             FINISHED       11.00   \n",
       "3                    4.0             FINISHED       28.00   \n",
       "4                    2.0             FINISHED        1.00   \n",
       "...                  ...                  ...         ...   \n",
       "2846                 2.0             REJECTED       34.96   \n",
       "2847                 2.0             REJECTED       34.96   \n",
       "2848                 2.0             REJECTED       34.96   \n",
       "2849                 2.0             REJECTED       34.96   \n",
       "2850                 2.0             REJECTED       34.96   \n",
       "\n",
       "                        userId barcode_list  \\\n",
       "0     5ff1e1eacfcf6c399c274ae6         4011   \n",
       "1     5ff1e194b6a9d73a3a9f1052         4011   \n",
       "2     5ff1e194b6a9d73a3a9f1052  28400642255   \n",
       "3     5ff1e1eacfcf6c399c274ae6         4011   \n",
       "4     5ff1e194b6a9d73a3a9f1052         4011   \n",
       "...                        ...          ...   \n",
       "2846  5fc961c3b8cfca11a077dd33   B07BRRLSVC   \n",
       "2847  5fc961c3b8cfca11a077dd33   B076FJ92M4   \n",
       "2848  5fc961c3b8cfca11a077dd33   B07BRRLSVC   \n",
       "2849  5fc961c3b8cfca11a077dd33   B076FJ92M4   \n",
       "2850  5fc961c3b8cfca11a077dd33   B07BRRLSVC   \n",
       "\n",
       "                                       description_list  \n",
       "0                                        ITEM NOT FOUND  \n",
       "1                                        ITEM NOT FOUND  \n",
       "2     DORITOS TORTILLA CHIP SPICY SWEET CHILI REDUCE...  \n",
       "3                                        ITEM NOT FOUND  \n",
       "4                                        ITEM NOT FOUND  \n",
       "...                                                 ...  \n",
       "2846                                    442 MLDITLN MTB  \n",
       "2847                             OSCAR MAYER LUNCH MEAT  \n",
       "2848  OSCAR MAYER Selects Rotisserie Seasoned Chicke...  \n",
       "2849                                    463 TILLAMOOKYO  \n",
       "2850                                    464 TILLAMOOKYO  \n",
       "\n",
       "[2851 rows x 16 columns]"
      ]
     },
     "execution_count": 271,
     "metadata": {},
     "output_type": "execute_result"
    }
   ],
   "source": [
    "receipts_df_copy_exploded"
   ]
  },
  {
   "cell_type": "markdown",
   "id": "4d9ff85c",
   "metadata": {},
   "source": [
    "Saving the modified dataframes to new CSV files"
   ]
  },
  {
   "cell_type": "code",
   "execution_count": 261,
   "id": "41554e7b",
   "metadata": {},
   "outputs": [],
   "source": [
    "# Saving the modified User DataFrame to a new CSV file called 'modified_users.csv'\n",
    "users_df.to_csv('modified_users.csv', index=False)\n",
    "# Saving the modified Brands DataFrame to a new CSV file called 'modified_brands.csv'\n",
    "brands_df.to_csv('modified_brands.csv', index=False)\n",
    "# Saving the modified Receipts DataFrame to a new CSV file called 'modified_receipts.csv'\n",
    "receipts_df_copy_exploded.to_csv('modified_recipts.csv', index=False)"
   ]
  },
  {
   "cell_type": "code",
   "execution_count": null,
   "id": "3ea30281",
   "metadata": {},
   "outputs": [],
   "source": []
  }
 ],
 "metadata": {
  "kernelspec": {
   "display_name": "Python 3 (ipykernel)",
   "language": "python",
   "name": "python3"
  },
  "language_info": {
   "codemirror_mode": {
    "name": "ipython",
    "version": 3
   },
   "file_extension": ".py",
   "mimetype": "text/x-python",
   "name": "python",
   "nbconvert_exporter": "python",
   "pygments_lexer": "ipython3",
   "version": "3.9.7"
  }
 },
 "nbformat": 4,
 "nbformat_minor": 5
}
